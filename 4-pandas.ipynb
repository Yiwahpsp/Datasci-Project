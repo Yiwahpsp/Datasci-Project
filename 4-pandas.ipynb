{
 "cells": [
  {
   "cell_type": "code",
   "execution_count": 376,
   "metadata": {},
   "outputs": [
    {
     "name": "stdout",
     "output_type": "stream",
     "text": [
      "Collecting fuzzywuzzy\n",
      "  Downloading fuzzywuzzy-0.18.0-py2.py3-none-any.whl.metadata (4.9 kB)\n",
      "Downloading fuzzywuzzy-0.18.0-py2.py3-none-any.whl (18 kB)\n",
      "Installing collected packages: fuzzywuzzy\n",
      "Successfully installed fuzzywuzzy-0.18.0\n",
      "Note: you may need to restart the kernel to use updated packages.\n"
     ]
    }
   ],
   "source": [
    "%pip install fuzzywuzzy"
   ]
  },
  {
   "cell_type": "code",
   "execution_count": 173,
   "metadata": {},
   "outputs": [],
   "source": [
    "from pyspark.sql import SparkSession\n",
    "import os\n",
    "import findspark\n",
    "from pyspark.sql import SparkSession\n",
    "from pyspark.sql import SQLContext\n",
    "import ast\n",
    "import pandas as pd\n",
    "import numpy as np\n",
    "from pyspark.sql.functions import col, when, split, explode, regexp_replace, lower, lit, udf, trim"
   ]
  },
  {
   "cell_type": "code",
   "execution_count": 174,
   "metadata": {},
   "outputs": [],
   "source": [
    "df_data_file = pd.read_csv(\"data/features_summation.csv\", encoding='utf-8')"
   ]
  },
  {
   "cell_type": "code",
   "execution_count": 175,
   "metadata": {},
   "outputs": [
    {
     "data": {
      "text/html": [
       "<div>\n",
       "<style scoped>\n",
       "    .dataframe tbody tr th:only-of-type {\n",
       "        vertical-align: middle;\n",
       "    }\n",
       "\n",
       "    .dataframe tbody tr th {\n",
       "        vertical-align: top;\n",
       "    }\n",
       "\n",
       "    .dataframe thead th {\n",
       "        text-align: right;\n",
       "    }\n",
       "</style>\n",
       "<table border=\"1\" class=\"dataframe\">\n",
       "  <thead>\n",
       "    <tr style=\"text-align: right;\">\n",
       "      <th></th>\n",
       "      <th>file</th>\n",
       "      <th>organizations</th>\n",
       "      <th>classifications</th>\n",
       "      <th>affiliations</th>\n",
       "      <th>auth-keywords</th>\n",
       "      <th>subjects</th>\n",
       "      <th>authors</th>\n",
       "      <th>reference</th>\n",
       "      <th>title</th>\n",
       "      <th>publish_name</th>\n",
       "    </tr>\n",
       "  </thead>\n",
       "  <tbody>\n",
       "    <tr>\n",
       "      <th>0</th>\n",
       "      <td>201800000.json</td>\n",
       "      <td>['Department of Preventive and Social Medicine...</td>\n",
       "      <td>['ASJC', 'SUBJABBR']</td>\n",
       "      <td>['Stanford University School of Medicine', 'Ch...</td>\n",
       "      <td>[None]</td>\n",
       "      <td>['Medicine (all)']</td>\n",
       "      <td>['Pongpirul K.', 'Lungren M.P.']</td>\n",
       "      <td>['Science.', 'The future of public health', 'I...</td>\n",
       "      <td>Public health and international epidemiology f...</td>\n",
       "      <td>Radiology in Global Health: Strategies, Implem...</td>\n",
       "    </tr>\n",
       "    <tr>\n",
       "      <th>1</th>\n",
       "      <td>201800001.json</td>\n",
       "      <td>['Department of Electrical Engineering', 'Wire...</td>\n",
       "      <td>['ASJC', 'CPXCLASS', 'FLXCLASS', 'SUBJABBR']</td>\n",
       "      <td>['Chulalongkorn University']</td>\n",
       "      <td>[None]</td>\n",
       "      <td>['Electrical and Electronic Engineering', 'Ele...</td>\n",
       "      <td>['Pratumsiri T.', 'Janpugdee P.']</td>\n",
       "      <td>['Proc. CAMA 2015', 'Proc. 2015 Thailand-Japan...</td>\n",
       "      <td>Flexible Printed Active Antenna for Digital Te...</td>\n",
       "      <td>Progress in Electromagnetics Research Symposium</td>\n",
       "    </tr>\n",
       "    <tr>\n",
       "      <th>2</th>\n",
       "      <td>201800002.json</td>\n",
       "      <td>['Center of Excellence in Catalysis and Cataly...</td>\n",
       "      <td>['CPXCLASS', 'ENCOMPASSCLASS', 'FLXCLASS', 'AS...</td>\n",
       "      <td>['Chulalongkorn University']</td>\n",
       "      <td>['Circulating fluidized bed', 'Computational f...</td>\n",
       "      <td>['Chemistry (all)', 'Chemical Engineering (all...</td>\n",
       "      <td>['Phuakpunk K.', 'Chalermsinsuwan B.', 'Putivi...</td>\n",
       "      <td>['AICHE J.', 'Int. J. Hydrog. Energy', 'Chem. ...</td>\n",
       "      <td>Parametric study of hydrogen production via so...</td>\n",
       "      <td>Chemical Engineering Science</td>\n",
       "    </tr>\n",
       "    <tr>\n",
       "      <th>3</th>\n",
       "      <td>201800003.json</td>\n",
       "      <td>['Department of Chemistry', 'Faculty of Scienc...</td>\n",
       "      <td>['CPXCLASS', 'FLXCLASS', 'ASJC', 'SUBJABBR']</td>\n",
       "      <td>['Hirosaki University', 'Chulalongkorn Univers...</td>\n",
       "      <td>['Encapsulation', 'Fluoroalkylsilane', 'Natura...</td>\n",
       "      <td>['Chemistry (all)', 'Condensed Matter Physics'...</td>\n",
       "      <td>['Saengkaew J.', 'Le D.', 'Samart C.', 'Sawada...</td>\n",
       "      <td>['Desalination', 'J. Membr. Sci.', 'Appl. Cata...</td>\n",
       "      <td>Superhydrophobic coating from fluoroalkylsilan...</td>\n",
       "      <td>Applied Surface Science</td>\n",
       "    </tr>\n",
       "    <tr>\n",
       "      <th>4</th>\n",
       "      <td>201800004.json</td>\n",
       "      <td>['Program in Petrochemistry', 'Faculty of Scie...</td>\n",
       "      <td>['EMCLASS', 'ASJC', 'SUBJABBR']</td>\n",
       "      <td>['Chulalongkorn University', 'Thailand Nationa...</td>\n",
       "      <td>['acpcPNA', 'Electrochemical impedance spectro...</td>\n",
       "      <td>['Analytical Chemistry', 'Biochemistry', 'Envi...</td>\n",
       "      <td>['Teengam P.', 'Siangproh W.', 'Tuantranont A....</td>\n",
       "      <td>['Int. J. Tubercul. Lung Dis.', 'Lancet Infect...</td>\n",
       "      <td>Electrochemical impedance-based DNA sensor usi...</td>\n",
       "      <td>Analytica Chimica Acta</td>\n",
       "    </tr>\n",
       "  </tbody>\n",
       "</table>\n",
       "</div>"
      ],
      "text/plain": [
       "             file                                      organizations  \\\n",
       "0  201800000.json  ['Department of Preventive and Social Medicine...   \n",
       "1  201800001.json  ['Department of Electrical Engineering', 'Wire...   \n",
       "2  201800002.json  ['Center of Excellence in Catalysis and Cataly...   \n",
       "3  201800003.json  ['Department of Chemistry', 'Faculty of Scienc...   \n",
       "4  201800004.json  ['Program in Petrochemistry', 'Faculty of Scie...   \n",
       "\n",
       "                                     classifications  \\\n",
       "0                               ['ASJC', 'SUBJABBR']   \n",
       "1       ['ASJC', 'CPXCLASS', 'FLXCLASS', 'SUBJABBR']   \n",
       "2  ['CPXCLASS', 'ENCOMPASSCLASS', 'FLXCLASS', 'AS...   \n",
       "3       ['CPXCLASS', 'FLXCLASS', 'ASJC', 'SUBJABBR']   \n",
       "4                    ['EMCLASS', 'ASJC', 'SUBJABBR']   \n",
       "\n",
       "                                        affiliations  \\\n",
       "0  ['Stanford University School of Medicine', 'Ch...   \n",
       "1                       ['Chulalongkorn University']   \n",
       "2                       ['Chulalongkorn University']   \n",
       "3  ['Hirosaki University', 'Chulalongkorn Univers...   \n",
       "4  ['Chulalongkorn University', 'Thailand Nationa...   \n",
       "\n",
       "                                       auth-keywords  \\\n",
       "0                                             [None]   \n",
       "1                                             [None]   \n",
       "2  ['Circulating fluidized bed', 'Computational f...   \n",
       "3  ['Encapsulation', 'Fluoroalkylsilane', 'Natura...   \n",
       "4  ['acpcPNA', 'Electrochemical impedance spectro...   \n",
       "\n",
       "                                            subjects  \\\n",
       "0                                 ['Medicine (all)']   \n",
       "1  ['Electrical and Electronic Engineering', 'Ele...   \n",
       "2  ['Chemistry (all)', 'Chemical Engineering (all...   \n",
       "3  ['Chemistry (all)', 'Condensed Matter Physics'...   \n",
       "4  ['Analytical Chemistry', 'Biochemistry', 'Envi...   \n",
       "\n",
       "                                             authors  \\\n",
       "0                   ['Pongpirul K.', 'Lungren M.P.']   \n",
       "1                  ['Pratumsiri T.', 'Janpugdee P.']   \n",
       "2  ['Phuakpunk K.', 'Chalermsinsuwan B.', 'Putivi...   \n",
       "3  ['Saengkaew J.', 'Le D.', 'Samart C.', 'Sawada...   \n",
       "4  ['Teengam P.', 'Siangproh W.', 'Tuantranont A....   \n",
       "\n",
       "                                           reference  \\\n",
       "0  ['Science.', 'The future of public health', 'I...   \n",
       "1  ['Proc. CAMA 2015', 'Proc. 2015 Thailand-Japan...   \n",
       "2  ['AICHE J.', 'Int. J. Hydrog. Energy', 'Chem. ...   \n",
       "3  ['Desalination', 'J. Membr. Sci.', 'Appl. Cata...   \n",
       "4  ['Int. J. Tubercul. Lung Dis.', 'Lancet Infect...   \n",
       "\n",
       "                                               title  \\\n",
       "0  Public health and international epidemiology f...   \n",
       "1  Flexible Printed Active Antenna for Digital Te...   \n",
       "2  Parametric study of hydrogen production via so...   \n",
       "3  Superhydrophobic coating from fluoroalkylsilan...   \n",
       "4  Electrochemical impedance-based DNA sensor usi...   \n",
       "\n",
       "                                        publish_name  \n",
       "0  Radiology in Global Health: Strategies, Implem...  \n",
       "1    Progress in Electromagnetics Research Symposium  \n",
       "2                       Chemical Engineering Science  \n",
       "3                            Applied Surface Science  \n",
       "4                             Analytica Chimica Acta  "
      ]
     },
     "execution_count": 175,
     "metadata": {},
     "output_type": "execute_result"
    }
   ],
   "source": [
    "df_data_file.head(5)"
   ]
  },
  {
   "cell_type": "markdown",
   "metadata": {},
   "source": [
    "## Drop column"
   ]
  },
  {
   "cell_type": "code",
   "execution_count": 176,
   "metadata": {},
   "outputs": [
    {
     "data": {
      "text/plain": [
       "Index(['file', 'organizations', 'classifications', 'affiliations',\n",
       "       'auth-keywords', 'subjects', 'authors', 'reference', 'title',\n",
       "       'publish_name'],\n",
       "      dtype='object')"
      ]
     },
     "execution_count": 176,
     "metadata": {},
     "output_type": "execute_result"
    }
   ],
   "source": [
    "df_data_file.columns"
   ]
  },
  {
   "cell_type": "code",
   "execution_count": 177,
   "metadata": {},
   "outputs": [],
   "source": [
    "df_data_file.drop(columns=['file', 'authors', 'reference'], inplace=True)"
   ]
  },
  {
   "cell_type": "code",
   "execution_count": 178,
   "metadata": {},
   "outputs": [
    {
     "data": {
      "text/html": [
       "<div>\n",
       "<style scoped>\n",
       "    .dataframe tbody tr th:only-of-type {\n",
       "        vertical-align: middle;\n",
       "    }\n",
       "\n",
       "    .dataframe tbody tr th {\n",
       "        vertical-align: top;\n",
       "    }\n",
       "\n",
       "    .dataframe thead th {\n",
       "        text-align: right;\n",
       "    }\n",
       "</style>\n",
       "<table border=\"1\" class=\"dataframe\">\n",
       "  <thead>\n",
       "    <tr style=\"text-align: right;\">\n",
       "      <th></th>\n",
       "      <th>organizations</th>\n",
       "      <th>classifications</th>\n",
       "      <th>affiliations</th>\n",
       "      <th>auth-keywords</th>\n",
       "      <th>subjects</th>\n",
       "      <th>title</th>\n",
       "      <th>publish_name</th>\n",
       "    </tr>\n",
       "  </thead>\n",
       "  <tbody>\n",
       "    <tr>\n",
       "      <th>count</th>\n",
       "      <td>20216</td>\n",
       "      <td>20216</td>\n",
       "      <td>20216</td>\n",
       "      <td>20216</td>\n",
       "      <td>20216</td>\n",
       "      <td>20215</td>\n",
       "      <td>20216</td>\n",
       "    </tr>\n",
       "    <tr>\n",
       "      <th>unique</th>\n",
       "      <td>17209</td>\n",
       "      <td>38</td>\n",
       "      <td>10528</td>\n",
       "      <td>16304</td>\n",
       "      <td>3105</td>\n",
       "      <td>20140</td>\n",
       "      <td>5501</td>\n",
       "    </tr>\n",
       "    <tr>\n",
       "      <th>top</th>\n",
       "      <td>['Chulalongkorn University']</td>\n",
       "      <td>['ASJC', 'SUBJABBR']</td>\n",
       "      <td>['Chulalongkorn University']</td>\n",
       "      <td>[None]</td>\n",
       "      <td>['Multidisciplinary']</td>\n",
       "      <td>Preface</td>\n",
       "      <td>Scientific Reports</td>\n",
       "    </tr>\n",
       "    <tr>\n",
       "      <th>freq</th>\n",
       "      <td>180</td>\n",
       "      <td>7769</td>\n",
       "      <td>4225</td>\n",
       "      <td>3762</td>\n",
       "      <td>1049</td>\n",
       "      <td>18</td>\n",
       "      <td>438</td>\n",
       "    </tr>\n",
       "  </tbody>\n",
       "</table>\n",
       "</div>"
      ],
      "text/plain": [
       "                       organizations       classifications  \\\n",
       "count                          20216                 20216   \n",
       "unique                         17209                    38   \n",
       "top     ['Chulalongkorn University']  ['ASJC', 'SUBJABBR']   \n",
       "freq                             180                  7769   \n",
       "\n",
       "                        affiliations auth-keywords               subjects  \\\n",
       "count                          20216         20216                  20216   \n",
       "unique                         10528         16304                   3105   \n",
       "top     ['Chulalongkorn University']        [None]  ['Multidisciplinary']   \n",
       "freq                            4225          3762                   1049   \n",
       "\n",
       "          title        publish_name  \n",
       "count     20215               20216  \n",
       "unique    20140                5501  \n",
       "top     Preface  Scientific Reports  \n",
       "freq         18                 438  "
      ]
     },
     "execution_count": 178,
     "metadata": {},
     "output_type": "execute_result"
    }
   ],
   "source": [
    "df_data_file.describe(include='all')"
   ]
  },
  {
   "cell_type": "markdown",
   "metadata": {},
   "source": [
    "## Remove null"
   ]
  },
  {
   "cell_type": "code",
   "execution_count": 179,
   "metadata": {},
   "outputs": [],
   "source": [
    "df_data_file_null_out = df_data_file"
   ]
  },
  {
   "cell_type": "code",
   "execution_count": 180,
   "metadata": {},
   "outputs": [
    {
     "name": "stderr",
     "output_type": "stream",
     "text": [
      "C:\\Users\\Yiwahpsp\\AppData\\Local\\Temp\\ipykernel_24164\\4193919111.py:1: FutureWarning: DataFrame.applymap has been deprecated. Use DataFrame.map instead.\n",
      "  df_data_file_null_out = df_data_file_null_out.applymap(lambda x: None if x == '[None]' or x == '[]' or x == 'None' else x)\n"
     ]
    }
   ],
   "source": [
    "df_data_file_null_out = df_data_file_null_out.applymap(lambda x: None if x == '[None]' or x == '[]' or x == 'None' else x)"
   ]
  },
  {
   "cell_type": "code",
   "execution_count": 181,
   "metadata": {},
   "outputs": [
    {
     "data": {
      "text/plain": [
       "organizations        22\n",
       "classifications       0\n",
       "affiliations          0\n",
       "auth-keywords      3762\n",
       "subjects              0\n",
       "title                 1\n",
       "publish_name          0\n",
       "dtype: int64"
      ]
     },
     "execution_count": 181,
     "metadata": {},
     "output_type": "execute_result"
    }
   ],
   "source": [
    "df_data_file_null_out.isnull().sum()"
   ]
  },
  {
   "cell_type": "code",
   "execution_count": 182,
   "metadata": {},
   "outputs": [],
   "source": [
    "df_data_file_null_out.dropna(inplace=True)"
   ]
  },
  {
   "cell_type": "code",
   "execution_count": 183,
   "metadata": {},
   "outputs": [],
   "source": [
    "df_data_file_null_out.drop_duplicates(inplace=True)"
   ]
  },
  {
   "cell_type": "code",
   "execution_count": 184,
   "metadata": {},
   "outputs": [
    {
     "data": {
      "text/html": [
       "<div>\n",
       "<style scoped>\n",
       "    .dataframe tbody tr th:only-of-type {\n",
       "        vertical-align: middle;\n",
       "    }\n",
       "\n",
       "    .dataframe tbody tr th {\n",
       "        vertical-align: top;\n",
       "    }\n",
       "\n",
       "    .dataframe thead th {\n",
       "        text-align: right;\n",
       "    }\n",
       "</style>\n",
       "<table border=\"1\" class=\"dataframe\">\n",
       "  <thead>\n",
       "    <tr style=\"text-align: right;\">\n",
       "      <th></th>\n",
       "      <th>organizations</th>\n",
       "      <th>classifications</th>\n",
       "      <th>affiliations</th>\n",
       "      <th>auth-keywords</th>\n",
       "      <th>subjects</th>\n",
       "      <th>title</th>\n",
       "      <th>publish_name</th>\n",
       "    </tr>\n",
       "  </thead>\n",
       "  <tbody>\n",
       "    <tr>\n",
       "      <th>count</th>\n",
       "      <td>16440</td>\n",
       "      <td>16440</td>\n",
       "      <td>16440</td>\n",
       "      <td>16440</td>\n",
       "      <td>16440</td>\n",
       "      <td>16440</td>\n",
       "      <td>16440</td>\n",
       "    </tr>\n",
       "    <tr>\n",
       "      <th>unique</th>\n",
       "      <td>14099</td>\n",
       "      <td>38</td>\n",
       "      <td>8591</td>\n",
       "      <td>16290</td>\n",
       "      <td>2822</td>\n",
       "      <td>16428</td>\n",
       "      <td>4685</td>\n",
       "    </tr>\n",
       "    <tr>\n",
       "      <th>top</th>\n",
       "      <td>['Chulalongkorn University']</td>\n",
       "      <td>['ASJC', 'SUBJABBR']</td>\n",
       "      <td>['Chulalongkorn University']</td>\n",
       "      <td>['Beyond Standard Model', 'Hadron-Hadron scatt...</td>\n",
       "      <td>['Medicine (all)']</td>\n",
       "      <td>Axial load-strain relationships of partially e...</td>\n",
       "      <td>Journal of High Energy Physics</td>\n",
       "    </tr>\n",
       "    <tr>\n",
       "      <th>freq</th>\n",
       "      <td>127</td>\n",
       "      <td>6066</td>\n",
       "      <td>3537</td>\n",
       "      <td>18</td>\n",
       "      <td>531</td>\n",
       "      <td>2</td>\n",
       "      <td>231</td>\n",
       "    </tr>\n",
       "  </tbody>\n",
       "</table>\n",
       "</div>"
      ],
      "text/plain": [
       "                       organizations       classifications  \\\n",
       "count                          16440                 16440   \n",
       "unique                         14099                    38   \n",
       "top     ['Chulalongkorn University']  ['ASJC', 'SUBJABBR']   \n",
       "freq                             127                  6066   \n",
       "\n",
       "                        affiliations  \\\n",
       "count                          16440   \n",
       "unique                          8591   \n",
       "top     ['Chulalongkorn University']   \n",
       "freq                            3537   \n",
       "\n",
       "                                            auth-keywords            subjects  \\\n",
       "count                                               16440               16440   \n",
       "unique                                              16290                2822   \n",
       "top     ['Beyond Standard Model', 'Hadron-Hadron scatt...  ['Medicine (all)']   \n",
       "freq                                                   18                 531   \n",
       "\n",
       "                                                    title  \\\n",
       "count                                               16440   \n",
       "unique                                              16428   \n",
       "top     Axial load-strain relationships of partially e...   \n",
       "freq                                                    2   \n",
       "\n",
       "                          publish_name  \n",
       "count                            16440  \n",
       "unique                            4685  \n",
       "top     Journal of High Energy Physics  \n",
       "freq                               231  "
      ]
     },
     "execution_count": 184,
     "metadata": {},
     "output_type": "execute_result"
    }
   ],
   "source": [
    "df_data_file_null_out.describe(include='all')"
   ]
  },
  {
   "cell_type": "code",
   "execution_count": 185,
   "metadata": {},
   "outputs": [],
   "source": [
    "df_data_file_null_out.to_csv('data_pandas/1_features_drop_null.csv', index=False, encoding='utf-8')"
   ]
  },
  {
   "cell_type": "code",
   "execution_count": 242,
   "metadata": {},
   "outputs": [],
   "source": [
    "df_data_file = df_data_file_null_out"
   ]
  },
  {
   "cell_type": "code",
   "execution_count": 243,
   "metadata": {},
   "outputs": [
    {
     "data": {
      "text/plain": [
       "(16440, 7)"
      ]
     },
     "execution_count": 243,
     "metadata": {},
     "output_type": "execute_result"
    }
   ],
   "source": [
    "df_data_file_null_out.shape"
   ]
  },
  {
   "cell_type": "code",
   "execution_count": 244,
   "metadata": {},
   "outputs": [
    {
     "data": {
      "text/plain": [
       "(16440, 7)"
      ]
     },
     "execution_count": 244,
     "metadata": {},
     "output_type": "execute_result"
    }
   ],
   "source": [
    "df_data_file.shape"
   ]
  },
  {
   "cell_type": "markdown",
   "metadata": {},
   "source": [
    "## Subject"
   ]
  },
  {
   "cell_type": "code",
   "execution_count": 310,
   "metadata": {},
   "outputs": [],
   "source": [
    "df_data_file_subject = pd.read_csv('data_pandas/1_features_drop_null.csv', encoding='utf-8')"
   ]
  },
  {
   "cell_type": "code",
   "execution_count": 296,
   "metadata": {},
   "outputs": [],
   "source": [
    "df_data_file_subject = df_data_file"
   ]
  },
  {
   "cell_type": "code",
   "execution_count": 298,
   "metadata": {},
   "outputs": [
    {
     "data": {
      "text/plain": [
       "(16440, 7)"
      ]
     },
     "execution_count": 298,
     "metadata": {},
     "output_type": "execute_result"
    }
   ],
   "source": [
    "df_data_file_subject.shape"
   ]
  },
  {
   "cell_type": "code",
   "execution_count": 311,
   "metadata": {},
   "outputs": [
    {
     "data": {
      "text/html": [
       "<div>\n",
       "<style scoped>\n",
       "    .dataframe tbody tr th:only-of-type {\n",
       "        vertical-align: middle;\n",
       "    }\n",
       "\n",
       "    .dataframe tbody tr th {\n",
       "        vertical-align: top;\n",
       "    }\n",
       "\n",
       "    .dataframe thead th {\n",
       "        text-align: right;\n",
       "    }\n",
       "</style>\n",
       "<table border=\"1\" class=\"dataframe\">\n",
       "  <thead>\n",
       "    <tr style=\"text-align: right;\">\n",
       "      <th></th>\n",
       "      <th>organizations</th>\n",
       "      <th>classifications</th>\n",
       "      <th>affiliations</th>\n",
       "      <th>auth-keywords</th>\n",
       "      <th>subjects</th>\n",
       "      <th>title</th>\n",
       "      <th>publish_name</th>\n",
       "    </tr>\n",
       "  </thead>\n",
       "  <tbody>\n",
       "    <tr>\n",
       "      <th>count</th>\n",
       "      <td>16440</td>\n",
       "      <td>16440</td>\n",
       "      <td>16440</td>\n",
       "      <td>16440</td>\n",
       "      <td>16440</td>\n",
       "      <td>16440</td>\n",
       "      <td>16440</td>\n",
       "    </tr>\n",
       "    <tr>\n",
       "      <th>unique</th>\n",
       "      <td>14099</td>\n",
       "      <td>38</td>\n",
       "      <td>8591</td>\n",
       "      <td>16290</td>\n",
       "      <td>2822</td>\n",
       "      <td>16428</td>\n",
       "      <td>4685</td>\n",
       "    </tr>\n",
       "    <tr>\n",
       "      <th>top</th>\n",
       "      <td>['Chulalongkorn University']</td>\n",
       "      <td>['ASJC', 'SUBJABBR']</td>\n",
       "      <td>['Chulalongkorn University']</td>\n",
       "      <td>['Beyond Standard Model', 'Hadron-Hadron scatt...</td>\n",
       "      <td>['Medicine (all)']</td>\n",
       "      <td>Axial load-strain relationships of partially e...</td>\n",
       "      <td>Journal of High Energy Physics</td>\n",
       "    </tr>\n",
       "    <tr>\n",
       "      <th>freq</th>\n",
       "      <td>127</td>\n",
       "      <td>6066</td>\n",
       "      <td>3537</td>\n",
       "      <td>18</td>\n",
       "      <td>531</td>\n",
       "      <td>2</td>\n",
       "      <td>231</td>\n",
       "    </tr>\n",
       "  </tbody>\n",
       "</table>\n",
       "</div>"
      ],
      "text/plain": [
       "                       organizations       classifications  \\\n",
       "count                          16440                 16440   \n",
       "unique                         14099                    38   \n",
       "top     ['Chulalongkorn University']  ['ASJC', 'SUBJABBR']   \n",
       "freq                             127                  6066   \n",
       "\n",
       "                        affiliations  \\\n",
       "count                          16440   \n",
       "unique                          8591   \n",
       "top     ['Chulalongkorn University']   \n",
       "freq                            3537   \n",
       "\n",
       "                                            auth-keywords            subjects  \\\n",
       "count                                               16440               16440   \n",
       "unique                                              16290                2822   \n",
       "top     ['Beyond Standard Model', 'Hadron-Hadron scatt...  ['Medicine (all)']   \n",
       "freq                                                   18                 531   \n",
       "\n",
       "                                                    title  \\\n",
       "count                                               16440   \n",
       "unique                                              16428   \n",
       "top     Axial load-strain relationships of partially e...   \n",
       "freq                                                    2   \n",
       "\n",
       "                          publish_name  \n",
       "count                            16440  \n",
       "unique                            4685  \n",
       "top     Journal of High Energy Physics  \n",
       "freq                               231  "
      ]
     },
     "execution_count": 311,
     "metadata": {},
     "output_type": "execute_result"
    }
   ],
   "source": [
    "df_data_file_subject.describe(include='all')"
   ]
  },
  {
   "cell_type": "code",
   "execution_count": 312,
   "metadata": {},
   "outputs": [],
   "source": [
    "# Ensure the subjects column contains valid string representations of lists\n",
    "def safe_literal_eval(val):\n",
    "\ttry:\n",
    "\t\treturn ast.literal_eval(val)\n",
    "\texcept (ValueError, SyntaxError):\n",
    "\t\treturn []\n",
    "\n",
    "# Split the subjects column into multiple rows\n",
    "df_data_file_subject['subjects'] = df_data_file_subject['subjects'].apply(safe_literal_eval)"
   ]
  },
  {
   "cell_type": "code",
   "execution_count": 313,
   "metadata": {},
   "outputs": [],
   "source": [
    "df_data_file_subject = df_data_file_subject.explode('subjects').reset_index(drop=True)"
   ]
  },
  {
   "cell_type": "code",
   "execution_count": 314,
   "metadata": {},
   "outputs": [
    {
     "data": {
      "text/plain": [
       "(42863, 7)"
      ]
     },
     "execution_count": 314,
     "metadata": {},
     "output_type": "execute_result"
    }
   ],
   "source": [
    "df_data_file_subject.shape"
   ]
  },
  {
   "cell_type": "code",
   "execution_count": 315,
   "metadata": {},
   "outputs": [
    {
     "data": {
      "text/html": [
       "<div>\n",
       "<style scoped>\n",
       "    .dataframe tbody tr th:only-of-type {\n",
       "        vertical-align: middle;\n",
       "    }\n",
       "\n",
       "    .dataframe tbody tr th {\n",
       "        vertical-align: top;\n",
       "    }\n",
       "\n",
       "    .dataframe thead th {\n",
       "        text-align: right;\n",
       "    }\n",
       "</style>\n",
       "<table border=\"1\" class=\"dataframe\">\n",
       "  <thead>\n",
       "    <tr style=\"text-align: right;\">\n",
       "      <th></th>\n",
       "      <th>organizations</th>\n",
       "      <th>classifications</th>\n",
       "      <th>affiliations</th>\n",
       "      <th>auth-keywords</th>\n",
       "      <th>subjects</th>\n",
       "      <th>title</th>\n",
       "      <th>publish_name</th>\n",
       "    </tr>\n",
       "  </thead>\n",
       "  <tbody>\n",
       "    <tr>\n",
       "      <th>0</th>\n",
       "      <td>['Center of Excellence in Catalysis and Cataly...</td>\n",
       "      <td>['CPXCLASS', 'ENCOMPASSCLASS', 'FLXCLASS', 'AS...</td>\n",
       "      <td>['Chulalongkorn University']</td>\n",
       "      <td>['Circulating fluidized bed', 'Computational f...</td>\n",
       "      <td>Chemistry (all)</td>\n",
       "      <td>Parametric study of hydrogen production via so...</td>\n",
       "      <td>Chemical Engineering Science</td>\n",
       "    </tr>\n",
       "    <tr>\n",
       "      <th>1</th>\n",
       "      <td>['Center of Excellence in Catalysis and Cataly...</td>\n",
       "      <td>['CPXCLASS', 'ENCOMPASSCLASS', 'FLXCLASS', 'AS...</td>\n",
       "      <td>['Chulalongkorn University']</td>\n",
       "      <td>['Circulating fluidized bed', 'Computational f...</td>\n",
       "      <td>Chemical Engineering (all)</td>\n",
       "      <td>Parametric study of hydrogen production via so...</td>\n",
       "      <td>Chemical Engineering Science</td>\n",
       "    </tr>\n",
       "    <tr>\n",
       "      <th>2</th>\n",
       "      <td>['Center of Excellence in Catalysis and Cataly...</td>\n",
       "      <td>['CPXCLASS', 'ENCOMPASSCLASS', 'FLXCLASS', 'AS...</td>\n",
       "      <td>['Chulalongkorn University']</td>\n",
       "      <td>['Circulating fluidized bed', 'Computational f...</td>\n",
       "      <td>Industrial and Manufacturing Engineering</td>\n",
       "      <td>Parametric study of hydrogen production via so...</td>\n",
       "      <td>Chemical Engineering Science</td>\n",
       "    </tr>\n",
       "    <tr>\n",
       "      <th>3</th>\n",
       "      <td>['Department of Chemistry', 'Faculty of Scienc...</td>\n",
       "      <td>['CPXCLASS', 'FLXCLASS', 'ASJC', 'SUBJABBR']</td>\n",
       "      <td>['Hirosaki University', 'Chulalongkorn Univers...</td>\n",
       "      <td>['Encapsulation', 'Fluoroalkylsilane', 'Natura...</td>\n",
       "      <td>Chemistry (all)</td>\n",
       "      <td>Superhydrophobic coating from fluoroalkylsilan...</td>\n",
       "      <td>Applied Surface Science</td>\n",
       "    </tr>\n",
       "    <tr>\n",
       "      <th>4</th>\n",
       "      <td>['Department of Chemistry', 'Faculty of Scienc...</td>\n",
       "      <td>['CPXCLASS', 'FLXCLASS', 'ASJC', 'SUBJABBR']</td>\n",
       "      <td>['Hirosaki University', 'Chulalongkorn Univers...</td>\n",
       "      <td>['Encapsulation', 'Fluoroalkylsilane', 'Natura...</td>\n",
       "      <td>Condensed Matter Physics</td>\n",
       "      <td>Superhydrophobic coating from fluoroalkylsilan...</td>\n",
       "      <td>Applied Surface Science</td>\n",
       "    </tr>\n",
       "  </tbody>\n",
       "</table>\n",
       "</div>"
      ],
      "text/plain": [
       "                                       organizations  \\\n",
       "0  ['Center of Excellence in Catalysis and Cataly...   \n",
       "1  ['Center of Excellence in Catalysis and Cataly...   \n",
       "2  ['Center of Excellence in Catalysis and Cataly...   \n",
       "3  ['Department of Chemistry', 'Faculty of Scienc...   \n",
       "4  ['Department of Chemistry', 'Faculty of Scienc...   \n",
       "\n",
       "                                     classifications  \\\n",
       "0  ['CPXCLASS', 'ENCOMPASSCLASS', 'FLXCLASS', 'AS...   \n",
       "1  ['CPXCLASS', 'ENCOMPASSCLASS', 'FLXCLASS', 'AS...   \n",
       "2  ['CPXCLASS', 'ENCOMPASSCLASS', 'FLXCLASS', 'AS...   \n",
       "3       ['CPXCLASS', 'FLXCLASS', 'ASJC', 'SUBJABBR']   \n",
       "4       ['CPXCLASS', 'FLXCLASS', 'ASJC', 'SUBJABBR']   \n",
       "\n",
       "                                        affiliations  \\\n",
       "0                       ['Chulalongkorn University']   \n",
       "1                       ['Chulalongkorn University']   \n",
       "2                       ['Chulalongkorn University']   \n",
       "3  ['Hirosaki University', 'Chulalongkorn Univers...   \n",
       "4  ['Hirosaki University', 'Chulalongkorn Univers...   \n",
       "\n",
       "                                       auth-keywords  \\\n",
       "0  ['Circulating fluidized bed', 'Computational f...   \n",
       "1  ['Circulating fluidized bed', 'Computational f...   \n",
       "2  ['Circulating fluidized bed', 'Computational f...   \n",
       "3  ['Encapsulation', 'Fluoroalkylsilane', 'Natura...   \n",
       "4  ['Encapsulation', 'Fluoroalkylsilane', 'Natura...   \n",
       "\n",
       "                                   subjects  \\\n",
       "0                           Chemistry (all)   \n",
       "1                Chemical Engineering (all)   \n",
       "2  Industrial and Manufacturing Engineering   \n",
       "3                           Chemistry (all)   \n",
       "4                  Condensed Matter Physics   \n",
       "\n",
       "                                               title  \\\n",
       "0  Parametric study of hydrogen production via so...   \n",
       "1  Parametric study of hydrogen production via so...   \n",
       "2  Parametric study of hydrogen production via so...   \n",
       "3  Superhydrophobic coating from fluoroalkylsilan...   \n",
       "4  Superhydrophobic coating from fluoroalkylsilan...   \n",
       "\n",
       "                   publish_name  \n",
       "0  Chemical Engineering Science  \n",
       "1  Chemical Engineering Science  \n",
       "2  Chemical Engineering Science  \n",
       "3       Applied Surface Science  \n",
       "4       Applied Surface Science  "
      ]
     },
     "execution_count": 315,
     "metadata": {},
     "output_type": "execute_result"
    }
   ],
   "source": [
    "df_data_file_subject.head(5)"
   ]
  },
  {
   "cell_type": "code",
   "execution_count": 316,
   "metadata": {},
   "outputs": [
    {
     "data": {
      "text/plain": [
       "(42863, 7)"
      ]
     },
     "execution_count": 316,
     "metadata": {},
     "output_type": "execute_result"
    }
   ],
   "source": [
    "df_data_file_subject.shape"
   ]
  },
  {
   "cell_type": "code",
   "execution_count": 317,
   "metadata": {},
   "outputs": [],
   "source": [
    "# Clean subject values\n",
    "df_data_file_subject['subject'] = (\n",
    "    df_data_file_subject['subjects']\n",
    "    .str.replace(r'[\\[\\]\\\"\\']', '', regex=True)  # Remove unwanted characters\n",
    "    .str.strip()                                # Trim whitespace\n",
    "    .str.replace(r'\\(.*?\\)', '', regex=True)    # Remove parentheses and their contents\n",
    "    .str.lower()                                # Convert to lowercase\n",
    ")\n",
    "\n",
    "def is_valid_utf8(text):\n",
    "    try:\n",
    "        text.encode('utf-8')\n",
    "        return True\n",
    "    except UnicodeEncodeError:\n",
    "        return False\n",
    "\n",
    "# Filter rows with only valid UTF-8 characters\n",
    "df_data_file_subject['subject'] = df_data_file_subject['subject'].apply(lambda x: x if is_valid_utf8(x) else np.nan)\n",
    "\n",
    "# Drop the original subjects column (if required)\n",
    "df_data_file_subject.drop(columns=['subjects'], inplace=True)"
   ]
  },
  {
   "cell_type": "code",
   "execution_count": 322,
   "metadata": {},
   "outputs": [
    {
     "data": {
      "text/plain": [
       "organizations      0\n",
       "classifications    0\n",
       "affiliations       0\n",
       "auth-keywords      0\n",
       "title              0\n",
       "publish_name       0\n",
       "subject            0\n",
       "dtype: int64"
      ]
     },
     "execution_count": 322,
     "metadata": {},
     "output_type": "execute_result"
    }
   ],
   "source": [
    "df_data_file_subject.isnull().sum()"
   ]
  },
  {
   "cell_type": "code",
   "execution_count": 323,
   "metadata": {},
   "outputs": [],
   "source": [
    "df_data_file_subject.dropna(inplace=True)"
   ]
  },
  {
   "cell_type": "code",
   "execution_count": 324,
   "metadata": {},
   "outputs": [
    {
     "data": {
      "text/html": [
       "<div>\n",
       "<style scoped>\n",
       "    .dataframe tbody tr th:only-of-type {\n",
       "        vertical-align: middle;\n",
       "    }\n",
       "\n",
       "    .dataframe tbody tr th {\n",
       "        vertical-align: top;\n",
       "    }\n",
       "\n",
       "    .dataframe thead th {\n",
       "        text-align: right;\n",
       "    }\n",
       "</style>\n",
       "<table border=\"1\" class=\"dataframe\">\n",
       "  <thead>\n",
       "    <tr style=\"text-align: right;\">\n",
       "      <th></th>\n",
       "      <th>organizations</th>\n",
       "      <th>classifications</th>\n",
       "      <th>affiliations</th>\n",
       "      <th>auth-keywords</th>\n",
       "      <th>title</th>\n",
       "      <th>publish_name</th>\n",
       "      <th>subject</th>\n",
       "    </tr>\n",
       "  </thead>\n",
       "  <tbody>\n",
       "    <tr>\n",
       "      <th>0</th>\n",
       "      <td>['Center of Excellence in Catalysis and Cataly...</td>\n",
       "      <td>['CPXCLASS', 'ENCOMPASSCLASS', 'FLXCLASS', 'AS...</td>\n",
       "      <td>['Chulalongkorn University']</td>\n",
       "      <td>['Circulating fluidized bed', 'Computational f...</td>\n",
       "      <td>Parametric study of hydrogen production via so...</td>\n",
       "      <td>Chemical Engineering Science</td>\n",
       "      <td>chemistry</td>\n",
       "    </tr>\n",
       "    <tr>\n",
       "      <th>1</th>\n",
       "      <td>['Center of Excellence in Catalysis and Cataly...</td>\n",
       "      <td>['CPXCLASS', 'ENCOMPASSCLASS', 'FLXCLASS', 'AS...</td>\n",
       "      <td>['Chulalongkorn University']</td>\n",
       "      <td>['Circulating fluidized bed', 'Computational f...</td>\n",
       "      <td>Parametric study of hydrogen production via so...</td>\n",
       "      <td>Chemical Engineering Science</td>\n",
       "      <td>chemical engineering</td>\n",
       "    </tr>\n",
       "    <tr>\n",
       "      <th>2</th>\n",
       "      <td>['Center of Excellence in Catalysis and Cataly...</td>\n",
       "      <td>['CPXCLASS', 'ENCOMPASSCLASS', 'FLXCLASS', 'AS...</td>\n",
       "      <td>['Chulalongkorn University']</td>\n",
       "      <td>['Circulating fluidized bed', 'Computational f...</td>\n",
       "      <td>Parametric study of hydrogen production via so...</td>\n",
       "      <td>Chemical Engineering Science</td>\n",
       "      <td>industrial and manufacturing engineering</td>\n",
       "    </tr>\n",
       "    <tr>\n",
       "      <th>3</th>\n",
       "      <td>['Department of Chemistry', 'Faculty of Scienc...</td>\n",
       "      <td>['CPXCLASS', 'FLXCLASS', 'ASJC', 'SUBJABBR']</td>\n",
       "      <td>['Hirosaki University', 'Chulalongkorn Univers...</td>\n",
       "      <td>['Encapsulation', 'Fluoroalkylsilane', 'Natura...</td>\n",
       "      <td>Superhydrophobic coating from fluoroalkylsilan...</td>\n",
       "      <td>Applied Surface Science</td>\n",
       "      <td>chemistry</td>\n",
       "    </tr>\n",
       "    <tr>\n",
       "      <th>4</th>\n",
       "      <td>['Department of Chemistry', 'Faculty of Scienc...</td>\n",
       "      <td>['CPXCLASS', 'FLXCLASS', 'ASJC', 'SUBJABBR']</td>\n",
       "      <td>['Hirosaki University', 'Chulalongkorn Univers...</td>\n",
       "      <td>['Encapsulation', 'Fluoroalkylsilane', 'Natura...</td>\n",
       "      <td>Superhydrophobic coating from fluoroalkylsilan...</td>\n",
       "      <td>Applied Surface Science</td>\n",
       "      <td>condensed matter physics</td>\n",
       "    </tr>\n",
       "  </tbody>\n",
       "</table>\n",
       "</div>"
      ],
      "text/plain": [
       "                                       organizations  \\\n",
       "0  ['Center of Excellence in Catalysis and Cataly...   \n",
       "1  ['Center of Excellence in Catalysis and Cataly...   \n",
       "2  ['Center of Excellence in Catalysis and Cataly...   \n",
       "3  ['Department of Chemistry', 'Faculty of Scienc...   \n",
       "4  ['Department of Chemistry', 'Faculty of Scienc...   \n",
       "\n",
       "                                     classifications  \\\n",
       "0  ['CPXCLASS', 'ENCOMPASSCLASS', 'FLXCLASS', 'AS...   \n",
       "1  ['CPXCLASS', 'ENCOMPASSCLASS', 'FLXCLASS', 'AS...   \n",
       "2  ['CPXCLASS', 'ENCOMPASSCLASS', 'FLXCLASS', 'AS...   \n",
       "3       ['CPXCLASS', 'FLXCLASS', 'ASJC', 'SUBJABBR']   \n",
       "4       ['CPXCLASS', 'FLXCLASS', 'ASJC', 'SUBJABBR']   \n",
       "\n",
       "                                        affiliations  \\\n",
       "0                       ['Chulalongkorn University']   \n",
       "1                       ['Chulalongkorn University']   \n",
       "2                       ['Chulalongkorn University']   \n",
       "3  ['Hirosaki University', 'Chulalongkorn Univers...   \n",
       "4  ['Hirosaki University', 'Chulalongkorn Univers...   \n",
       "\n",
       "                                       auth-keywords  \\\n",
       "0  ['Circulating fluidized bed', 'Computational f...   \n",
       "1  ['Circulating fluidized bed', 'Computational f...   \n",
       "2  ['Circulating fluidized bed', 'Computational f...   \n",
       "3  ['Encapsulation', 'Fluoroalkylsilane', 'Natura...   \n",
       "4  ['Encapsulation', 'Fluoroalkylsilane', 'Natura...   \n",
       "\n",
       "                                               title  \\\n",
       "0  Parametric study of hydrogen production via so...   \n",
       "1  Parametric study of hydrogen production via so...   \n",
       "2  Parametric study of hydrogen production via so...   \n",
       "3  Superhydrophobic coating from fluoroalkylsilan...   \n",
       "4  Superhydrophobic coating from fluoroalkylsilan...   \n",
       "\n",
       "                   publish_name                                   subject  \n",
       "0  Chemical Engineering Science                                chemistry   \n",
       "1  Chemical Engineering Science                     chemical engineering   \n",
       "2  Chemical Engineering Science  industrial and manufacturing engineering  \n",
       "3       Applied Surface Science                                chemistry   \n",
       "4       Applied Surface Science                  condensed matter physics  "
      ]
     },
     "execution_count": 324,
     "metadata": {},
     "output_type": "execute_result"
    }
   ],
   "source": [
    "df_data_file_subject.head(5)"
   ]
  },
  {
   "cell_type": "code",
   "execution_count": 325,
   "metadata": {},
   "outputs": [
    {
     "data": {
      "text/plain": [
       "(42850, 7)"
      ]
     },
     "execution_count": 325,
     "metadata": {},
     "output_type": "execute_result"
    }
   ],
   "source": [
    "df_data_file_subject.shape"
   ]
  },
  {
   "cell_type": "code",
   "execution_count": 326,
   "metadata": {},
   "outputs": [],
   "source": [
    "df_data_file_subject.to_csv('data_pandas/2_features_subject.csv', index=False, encoding='utf-8')"
   ]
  },
  {
   "cell_type": "code",
   "execution_count": 327,
   "metadata": {},
   "outputs": [],
   "source": [
    "df_data_file = df_data_file_subject"
   ]
  },
  {
   "cell_type": "markdown",
   "metadata": {},
   "source": [
    "## Mapping Subject"
   ]
  },
  {
   "cell_type": "code",
   "execution_count": 389,
   "metadata": {},
   "outputs": [],
   "source": [
    "import json\n",
    "with open('clustering_subject.json', encoding='utf-8') as file:\n",
    "  mapping_subjects = json.load(file)"
   ]
  },
  {
   "cell_type": "code",
   "execution_count": 390,
   "metadata": {},
   "outputs": [
    {
     "data": {
      "text/plain": [
       "[{'Cluster': 'Physics and Astronomy',\n",
       "  'Subjects': ['physics',\n",
       "   'astronomy',\n",
       "   'astrophysics',\n",
       "   'space and planetary science',\n",
       "   'nuclear physics',\n",
       "   'high energy physics',\n",
       "   'statistical and nonlinear physics',\n",
       "   'mathematical physics',\n",
       "   'condensed matter physics']}]"
      ]
     },
     "execution_count": 390,
     "metadata": {},
     "output_type": "execute_result"
    }
   ],
   "source": [
    "mapping_subjects[:1]"
   ]
  },
  {
   "cell_type": "code",
   "execution_count": 398,
   "metadata": {},
   "outputs": [],
   "source": [
    "df_data_file_subject_clustering = pd.read_csv('data_pandas/2_features_subject.csv', encoding='utf-8')"
   ]
  },
  {
   "cell_type": "code",
   "execution_count": 392,
   "metadata": {},
   "outputs": [
    {
     "data": {
      "text/html": [
       "<div>\n",
       "<style scoped>\n",
       "    .dataframe tbody tr th:only-of-type {\n",
       "        vertical-align: middle;\n",
       "    }\n",
       "\n",
       "    .dataframe tbody tr th {\n",
       "        vertical-align: top;\n",
       "    }\n",
       "\n",
       "    .dataframe thead th {\n",
       "        text-align: right;\n",
       "    }\n",
       "</style>\n",
       "<table border=\"1\" class=\"dataframe\">\n",
       "  <thead>\n",
       "    <tr style=\"text-align: right;\">\n",
       "      <th></th>\n",
       "      <th>organizations</th>\n",
       "      <th>classifications</th>\n",
       "      <th>affiliations</th>\n",
       "      <th>auth-keywords</th>\n",
       "      <th>title</th>\n",
       "      <th>publish_name</th>\n",
       "      <th>subject</th>\n",
       "    </tr>\n",
       "  </thead>\n",
       "  <tbody>\n",
       "    <tr>\n",
       "      <th>count</th>\n",
       "      <td>42850</td>\n",
       "      <td>42850</td>\n",
       "      <td>42850</td>\n",
       "      <td>42850</td>\n",
       "      <td>42850</td>\n",
       "      <td>42850</td>\n",
       "      <td>42850</td>\n",
       "    </tr>\n",
       "    <tr>\n",
       "      <th>unique</th>\n",
       "      <td>14099</td>\n",
       "      <td>38</td>\n",
       "      <td>8591</td>\n",
       "      <td>16290</td>\n",
       "      <td>16428</td>\n",
       "      <td>4685</td>\n",
       "      <td>293</td>\n",
       "    </tr>\n",
       "    <tr>\n",
       "      <th>top</th>\n",
       "      <td>['Chulalongkorn University']</td>\n",
       "      <td>['ASJC', 'SUBJABBR']</td>\n",
       "      <td>['Chulalongkorn University']</td>\n",
       "      <td>['Beyond Standard Model', 'Hadron-Hadron scatt...</td>\n",
       "      <td>Techno-economic sensitivity analysis for optim...</td>\n",
       "      <td>Sustainability (Switzerland)</td>\n",
       "      <td>materials science</td>\n",
       "    </tr>\n",
       "    <tr>\n",
       "      <th>freq</th>\n",
       "      <td>309</td>\n",
       "      <td>13853</td>\n",
       "      <td>9684</td>\n",
       "      <td>18</td>\n",
       "      <td>12</td>\n",
       "      <td>734</td>\n",
       "      <td>807</td>\n",
       "    </tr>\n",
       "  </tbody>\n",
       "</table>\n",
       "</div>"
      ],
      "text/plain": [
       "                       organizations       classifications  \\\n",
       "count                          42850                 42850   \n",
       "unique                         14099                    38   \n",
       "top     ['Chulalongkorn University']  ['ASJC', 'SUBJABBR']   \n",
       "freq                             309                 13853   \n",
       "\n",
       "                        affiliations  \\\n",
       "count                          42850   \n",
       "unique                          8591   \n",
       "top     ['Chulalongkorn University']   \n",
       "freq                            9684   \n",
       "\n",
       "                                            auth-keywords  \\\n",
       "count                                               42850   \n",
       "unique                                              16290   \n",
       "top     ['Beyond Standard Model', 'Hadron-Hadron scatt...   \n",
       "freq                                                   18   \n",
       "\n",
       "                                                    title  \\\n",
       "count                                               42850   \n",
       "unique                                              16428   \n",
       "top     Techno-economic sensitivity analysis for optim...   \n",
       "freq                                                   12   \n",
       "\n",
       "                        publish_name             subject  \n",
       "count                          42850               42850  \n",
       "unique                          4685                 293  \n",
       "top     Sustainability (Switzerland)  materials science   \n",
       "freq                             734                 807  "
      ]
     },
     "execution_count": 392,
     "metadata": {},
     "output_type": "execute_result"
    }
   ],
   "source": [
    "df_data_file_subject_clustering.describe()"
   ]
  },
  {
   "cell_type": "code",
   "execution_count": 399,
   "metadata": {},
   "outputs": [
    {
     "data": {
      "text/html": [
       "<div>\n",
       "<style scoped>\n",
       "    .dataframe tbody tr th:only-of-type {\n",
       "        vertical-align: middle;\n",
       "    }\n",
       "\n",
       "    .dataframe tbody tr th {\n",
       "        vertical-align: top;\n",
       "    }\n",
       "\n",
       "    .dataframe thead th {\n",
       "        text-align: right;\n",
       "    }\n",
       "</style>\n",
       "<table border=\"1\" class=\"dataframe\">\n",
       "  <thead>\n",
       "    <tr style=\"text-align: right;\">\n",
       "      <th></th>\n",
       "      <th>organizations</th>\n",
       "      <th>classifications</th>\n",
       "      <th>affiliations</th>\n",
       "      <th>auth-keywords</th>\n",
       "      <th>title</th>\n",
       "      <th>publish_name</th>\n",
       "      <th>subject</th>\n",
       "    </tr>\n",
       "  </thead>\n",
       "  <tbody>\n",
       "    <tr>\n",
       "      <th>0</th>\n",
       "      <td>['Center of Excellence in Catalysis and Cataly...</td>\n",
       "      <td>['CPXCLASS', 'ENCOMPASSCLASS', 'FLXCLASS', 'AS...</td>\n",
       "      <td>['Chulalongkorn University']</td>\n",
       "      <td>['Circulating fluidized bed', 'Computational f...</td>\n",
       "      <td>Parametric study of hydrogen production via so...</td>\n",
       "      <td>Chemical Engineering Science</td>\n",
       "      <td>chemistry</td>\n",
       "    </tr>\n",
       "    <tr>\n",
       "      <th>1</th>\n",
       "      <td>['Center of Excellence in Catalysis and Cataly...</td>\n",
       "      <td>['CPXCLASS', 'ENCOMPASSCLASS', 'FLXCLASS', 'AS...</td>\n",
       "      <td>['Chulalongkorn University']</td>\n",
       "      <td>['Circulating fluidized bed', 'Computational f...</td>\n",
       "      <td>Parametric study of hydrogen production via so...</td>\n",
       "      <td>Chemical Engineering Science</td>\n",
       "      <td>chemical engineering</td>\n",
       "    </tr>\n",
       "    <tr>\n",
       "      <th>2</th>\n",
       "      <td>['Center of Excellence in Catalysis and Cataly...</td>\n",
       "      <td>['CPXCLASS', 'ENCOMPASSCLASS', 'FLXCLASS', 'AS...</td>\n",
       "      <td>['Chulalongkorn University']</td>\n",
       "      <td>['Circulating fluidized bed', 'Computational f...</td>\n",
       "      <td>Parametric study of hydrogen production via so...</td>\n",
       "      <td>Chemical Engineering Science</td>\n",
       "      <td>industrial and manufacturing engineering</td>\n",
       "    </tr>\n",
       "    <tr>\n",
       "      <th>3</th>\n",
       "      <td>['Department of Chemistry', 'Faculty of Scienc...</td>\n",
       "      <td>['CPXCLASS', 'FLXCLASS', 'ASJC', 'SUBJABBR']</td>\n",
       "      <td>['Hirosaki University', 'Chulalongkorn Univers...</td>\n",
       "      <td>['Encapsulation', 'Fluoroalkylsilane', 'Natura...</td>\n",
       "      <td>Superhydrophobic coating from fluoroalkylsilan...</td>\n",
       "      <td>Applied Surface Science</td>\n",
       "      <td>chemistry</td>\n",
       "    </tr>\n",
       "    <tr>\n",
       "      <th>4</th>\n",
       "      <td>['Department of Chemistry', 'Faculty of Scienc...</td>\n",
       "      <td>['CPXCLASS', 'FLXCLASS', 'ASJC', 'SUBJABBR']</td>\n",
       "      <td>['Hirosaki University', 'Chulalongkorn Univers...</td>\n",
       "      <td>['Encapsulation', 'Fluoroalkylsilane', 'Natura...</td>\n",
       "      <td>Superhydrophobic coating from fluoroalkylsilan...</td>\n",
       "      <td>Applied Surface Science</td>\n",
       "      <td>condensed matter physics</td>\n",
       "    </tr>\n",
       "  </tbody>\n",
       "</table>\n",
       "</div>"
      ],
      "text/plain": [
       "                                       organizations  \\\n",
       "0  ['Center of Excellence in Catalysis and Cataly...   \n",
       "1  ['Center of Excellence in Catalysis and Cataly...   \n",
       "2  ['Center of Excellence in Catalysis and Cataly...   \n",
       "3  ['Department of Chemistry', 'Faculty of Scienc...   \n",
       "4  ['Department of Chemistry', 'Faculty of Scienc...   \n",
       "\n",
       "                                     classifications  \\\n",
       "0  ['CPXCLASS', 'ENCOMPASSCLASS', 'FLXCLASS', 'AS...   \n",
       "1  ['CPXCLASS', 'ENCOMPASSCLASS', 'FLXCLASS', 'AS...   \n",
       "2  ['CPXCLASS', 'ENCOMPASSCLASS', 'FLXCLASS', 'AS...   \n",
       "3       ['CPXCLASS', 'FLXCLASS', 'ASJC', 'SUBJABBR']   \n",
       "4       ['CPXCLASS', 'FLXCLASS', 'ASJC', 'SUBJABBR']   \n",
       "\n",
       "                                        affiliations  \\\n",
       "0                       ['Chulalongkorn University']   \n",
       "1                       ['Chulalongkorn University']   \n",
       "2                       ['Chulalongkorn University']   \n",
       "3  ['Hirosaki University', 'Chulalongkorn Univers...   \n",
       "4  ['Hirosaki University', 'Chulalongkorn Univers...   \n",
       "\n",
       "                                       auth-keywords  \\\n",
       "0  ['Circulating fluidized bed', 'Computational f...   \n",
       "1  ['Circulating fluidized bed', 'Computational f...   \n",
       "2  ['Circulating fluidized bed', 'Computational f...   \n",
       "3  ['Encapsulation', 'Fluoroalkylsilane', 'Natura...   \n",
       "4  ['Encapsulation', 'Fluoroalkylsilane', 'Natura...   \n",
       "\n",
       "                                               title  \\\n",
       "0  Parametric study of hydrogen production via so...   \n",
       "1  Parametric study of hydrogen production via so...   \n",
       "2  Parametric study of hydrogen production via so...   \n",
       "3  Superhydrophobic coating from fluoroalkylsilan...   \n",
       "4  Superhydrophobic coating from fluoroalkylsilan...   \n",
       "\n",
       "                   publish_name                                   subject  \n",
       "0  Chemical Engineering Science                                chemistry   \n",
       "1  Chemical Engineering Science                     chemical engineering   \n",
       "2  Chemical Engineering Science  industrial and manufacturing engineering  \n",
       "3       Applied Surface Science                                chemistry   \n",
       "4       Applied Surface Science                  condensed matter physics  "
      ]
     },
     "execution_count": 399,
     "metadata": {},
     "output_type": "execute_result"
    }
   ],
   "source": [
    "df_data_file_subject_clustering.head(5)"
   ]
  },
  {
   "cell_type": "code",
   "execution_count": 403,
   "metadata": {},
   "outputs": [],
   "source": [
    "import nltk\n",
    "from nltk.stem import PorterStemmer\n",
    "from fuzzywuzzy import fuzz\n",
    "\n",
    "subject_cluster_mapping = {cluster_data['Cluster']: set(cluster_data['Subjects']) for cluster_data in mapping_subjects}\n",
    "stemmer = PorterStemmer()\n",
    "\n",
    "def map_subjects(subject):\n",
    "    subject = subject.lower()\n",
    "    tokens = subject.split()\n",
    "    stemmed_tokens = [stemmer.stem(token) for token in tokens]\n",
    "\n",
    "    for cluster, subjects in subject_cluster_mapping.items():\n",
    "        for cluster_subject in subjects:\n",
    "            cluster_tokens = cluster_subject.lower().split()\n",
    "            stemmed_cluster_tokens = [stemmer.stem(token) for token in cluster_tokens]\n",
    "\n",
    "            # Exact match\n",
    "            if set(stemmed_tokens) == set(stemmed_cluster_tokens):\n",
    "                return cluster\n",
    "\n",
    "            # Fuzzy matching based on token similarity\n",
    "            fuzzy_ratio = fuzz.token_sort_ratio(subject, cluster_subject)\n",
    "            if fuzzy_ratio > 80:\n",
    "                return cluster\n",
    "\n",
    "    return 'Other'\n",
    "\n",
    "df_data_file_subject_clustering['subject-cluster'] = df_data_file_subject_clustering['subject'].apply(lambda x: map_subjects(x.strip()))"
   ]
  },
  {
   "cell_type": "code",
   "execution_count": 404,
   "metadata": {},
   "outputs": [
    {
     "data": {
      "text/html": [
       "<div>\n",
       "<style scoped>\n",
       "    .dataframe tbody tr th:only-of-type {\n",
       "        vertical-align: middle;\n",
       "    }\n",
       "\n",
       "    .dataframe tbody tr th {\n",
       "        vertical-align: top;\n",
       "    }\n",
       "\n",
       "    .dataframe thead th {\n",
       "        text-align: right;\n",
       "    }\n",
       "</style>\n",
       "<table border=\"1\" class=\"dataframe\">\n",
       "  <thead>\n",
       "    <tr style=\"text-align: right;\">\n",
       "      <th></th>\n",
       "      <th>organizations</th>\n",
       "      <th>classifications</th>\n",
       "      <th>affiliations</th>\n",
       "      <th>auth-keywords</th>\n",
       "      <th>title</th>\n",
       "      <th>publish_name</th>\n",
       "      <th>subject</th>\n",
       "      <th>subject-cluster</th>\n",
       "    </tr>\n",
       "  </thead>\n",
       "  <tbody>\n",
       "    <tr>\n",
       "      <th>0</th>\n",
       "      <td>['Center of Excellence in Catalysis and Cataly...</td>\n",
       "      <td>['CPXCLASS', 'ENCOMPASSCLASS', 'FLXCLASS', 'AS...</td>\n",
       "      <td>['Chulalongkorn University']</td>\n",
       "      <td>['Circulating fluidized bed', 'Computational f...</td>\n",
       "      <td>Parametric study of hydrogen production via so...</td>\n",
       "      <td>Chemical Engineering Science</td>\n",
       "      <td>chemistry</td>\n",
       "      <td>Chemistry</td>\n",
       "    </tr>\n",
       "    <tr>\n",
       "      <th>1</th>\n",
       "      <td>['Center of Excellence in Catalysis and Cataly...</td>\n",
       "      <td>['CPXCLASS', 'ENCOMPASSCLASS', 'FLXCLASS', 'AS...</td>\n",
       "      <td>['Chulalongkorn University']</td>\n",
       "      <td>['Circulating fluidized bed', 'Computational f...</td>\n",
       "      <td>Parametric study of hydrogen production via so...</td>\n",
       "      <td>Chemical Engineering Science</td>\n",
       "      <td>chemical engineering</td>\n",
       "      <td>Engineering</td>\n",
       "    </tr>\n",
       "    <tr>\n",
       "      <th>2</th>\n",
       "      <td>['Center of Excellence in Catalysis and Cataly...</td>\n",
       "      <td>['CPXCLASS', 'ENCOMPASSCLASS', 'FLXCLASS', 'AS...</td>\n",
       "      <td>['Chulalongkorn University']</td>\n",
       "      <td>['Circulating fluidized bed', 'Computational f...</td>\n",
       "      <td>Parametric study of hydrogen production via so...</td>\n",
       "      <td>Chemical Engineering Science</td>\n",
       "      <td>industrial and manufacturing engineering</td>\n",
       "      <td>Engineering</td>\n",
       "    </tr>\n",
       "    <tr>\n",
       "      <th>3</th>\n",
       "      <td>['Department of Chemistry', 'Faculty of Scienc...</td>\n",
       "      <td>['CPXCLASS', 'FLXCLASS', 'ASJC', 'SUBJABBR']</td>\n",
       "      <td>['Hirosaki University', 'Chulalongkorn Univers...</td>\n",
       "      <td>['Encapsulation', 'Fluoroalkylsilane', 'Natura...</td>\n",
       "      <td>Superhydrophobic coating from fluoroalkylsilan...</td>\n",
       "      <td>Applied Surface Science</td>\n",
       "      <td>chemistry</td>\n",
       "      <td>Chemistry</td>\n",
       "    </tr>\n",
       "    <tr>\n",
       "      <th>4</th>\n",
       "      <td>['Department of Chemistry', 'Faculty of Scienc...</td>\n",
       "      <td>['CPXCLASS', 'FLXCLASS', 'ASJC', 'SUBJABBR']</td>\n",
       "      <td>['Hirosaki University', 'Chulalongkorn Univers...</td>\n",
       "      <td>['Encapsulation', 'Fluoroalkylsilane', 'Natura...</td>\n",
       "      <td>Superhydrophobic coating from fluoroalkylsilan...</td>\n",
       "      <td>Applied Surface Science</td>\n",
       "      <td>condensed matter physics</td>\n",
       "      <td>Physics and Astronomy</td>\n",
       "    </tr>\n",
       "  </tbody>\n",
       "</table>\n",
       "</div>"
      ],
      "text/plain": [
       "                                       organizations  \\\n",
       "0  ['Center of Excellence in Catalysis and Cataly...   \n",
       "1  ['Center of Excellence in Catalysis and Cataly...   \n",
       "2  ['Center of Excellence in Catalysis and Cataly...   \n",
       "3  ['Department of Chemistry', 'Faculty of Scienc...   \n",
       "4  ['Department of Chemistry', 'Faculty of Scienc...   \n",
       "\n",
       "                                     classifications  \\\n",
       "0  ['CPXCLASS', 'ENCOMPASSCLASS', 'FLXCLASS', 'AS...   \n",
       "1  ['CPXCLASS', 'ENCOMPASSCLASS', 'FLXCLASS', 'AS...   \n",
       "2  ['CPXCLASS', 'ENCOMPASSCLASS', 'FLXCLASS', 'AS...   \n",
       "3       ['CPXCLASS', 'FLXCLASS', 'ASJC', 'SUBJABBR']   \n",
       "4       ['CPXCLASS', 'FLXCLASS', 'ASJC', 'SUBJABBR']   \n",
       "\n",
       "                                        affiliations  \\\n",
       "0                       ['Chulalongkorn University']   \n",
       "1                       ['Chulalongkorn University']   \n",
       "2                       ['Chulalongkorn University']   \n",
       "3  ['Hirosaki University', 'Chulalongkorn Univers...   \n",
       "4  ['Hirosaki University', 'Chulalongkorn Univers...   \n",
       "\n",
       "                                       auth-keywords  \\\n",
       "0  ['Circulating fluidized bed', 'Computational f...   \n",
       "1  ['Circulating fluidized bed', 'Computational f...   \n",
       "2  ['Circulating fluidized bed', 'Computational f...   \n",
       "3  ['Encapsulation', 'Fluoroalkylsilane', 'Natura...   \n",
       "4  ['Encapsulation', 'Fluoroalkylsilane', 'Natura...   \n",
       "\n",
       "                                               title  \\\n",
       "0  Parametric study of hydrogen production via so...   \n",
       "1  Parametric study of hydrogen production via so...   \n",
       "2  Parametric study of hydrogen production via so...   \n",
       "3  Superhydrophobic coating from fluoroalkylsilan...   \n",
       "4  Superhydrophobic coating from fluoroalkylsilan...   \n",
       "\n",
       "                   publish_name                                   subject  \\\n",
       "0  Chemical Engineering Science                                chemistry    \n",
       "1  Chemical Engineering Science                     chemical engineering    \n",
       "2  Chemical Engineering Science  industrial and manufacturing engineering   \n",
       "3       Applied Surface Science                                chemistry    \n",
       "4       Applied Surface Science                  condensed matter physics   \n",
       "\n",
       "         subject-cluster  \n",
       "0              Chemistry  \n",
       "1            Engineering  \n",
       "2            Engineering  \n",
       "3              Chemistry  \n",
       "4  Physics and Astronomy  "
      ]
     },
     "execution_count": 404,
     "metadata": {},
     "output_type": "execute_result"
    }
   ],
   "source": [
    "df_data_file_subject_clustering.head(5)"
   ]
  },
  {
   "cell_type": "code",
   "execution_count": 420,
   "metadata": {},
   "outputs": [
    {
     "data": {
      "text/plain": [
       "subject-cluster\n",
       "Physics and Astronomy                          10840\n",
       "Medicine                                        5387\n",
       "Biology                                         4119\n",
       "Social Sciences                                 4057\n",
       "Multidisciplinary                               3960\n",
       "Engineering                                     3384\n",
       "Chemistry                                       3270\n",
       "Other                                           2482\n",
       "Computer Science and Information Technology     2470\n",
       "Environmental Science                           1970\n",
       "Agriculture and Food Science                     911\n",
       "Name: count, dtype: int64"
      ]
     },
     "execution_count": 420,
     "metadata": {},
     "output_type": "execute_result"
    }
   ],
   "source": [
    "df_data_file_subject_clustering['subject-cluster'].value_counts()"
   ]
  },
  {
   "cell_type": "code",
   "execution_count": 419,
   "metadata": {},
   "outputs": [
    {
     "name": "stderr",
     "output_type": "stream",
     "text": [
      "C:\\Users\\Yiwahpsp\\AppData\\Local\\Temp\\ipykernel_24164\\2242654720.py:17: SettingWithCopyWarning: \n",
      "A value is trying to be set on a copy of a slice from a DataFrame\n",
      "\n",
      "See the caveats in the documentation: https://pandas.pydata.org/pandas-docs/stable/user_guide/indexing.html#returning-a-view-versus-a-copy\n",
      "  other_subjects['new_cluster'] = other_subjects.apply(map_subjects)\n"
     ]
    }
   ],
   "source": [
    "def map_subjects(subject):\n",
    "    subject = subject.lower()\n",
    "    tokens = subject.split()\n",
    "    stemmed_tokens = [stemmer.stem(token) for token in tokens]\n",
    "\n",
    "    for cluster, subjects in subject_cluster_mapping.items():\n",
    "        for cluster_subject in subjects:\n",
    "            if subject == cluster_subject.lower():\n",
    "                return cluster\n",
    "\n",
    "    return 'Other'\n",
    "\n",
    "# Filter subjects that were previously classified as 'Other'\n",
    "other_subjects = df_data_file_subject_clustering[df_data_file_subject_clustering['subject-cluster'] == 'Other']['subject']\n",
    "\n",
    "# Re-classify 'Other' subjects\n",
    "other_subjects['new_cluster'] = other_subjects.apply(map_subjects)\n",
    "\n",
    "# Update the original DataFrame\n",
    "df_data_file_subject_clustering.loc[df_data_file_subject_clustering['subject-cluster'] == 'Other', 'subject-cluster'] = other_subjects['new_cluster']"
   ]
  },
  {
   "cell_type": "code",
   "execution_count": null,
   "metadata": {},
   "outputs": [],
   "source": [
    "df_data_file_subject_clustering.drop(columns=['subject'], inplace=True)"
   ]
  },
  {
   "cell_type": "code",
   "execution_count": 424,
   "metadata": {},
   "outputs": [
    {
     "data": {
      "text/html": [
       "<div>\n",
       "<style scoped>\n",
       "    .dataframe tbody tr th:only-of-type {\n",
       "        vertical-align: middle;\n",
       "    }\n",
       "\n",
       "    .dataframe tbody tr th {\n",
       "        vertical-align: top;\n",
       "    }\n",
       "\n",
       "    .dataframe thead th {\n",
       "        text-align: right;\n",
       "    }\n",
       "</style>\n",
       "<table border=\"1\" class=\"dataframe\">\n",
       "  <thead>\n",
       "    <tr style=\"text-align: right;\">\n",
       "      <th></th>\n",
       "      <th>organizations</th>\n",
       "      <th>classifications</th>\n",
       "      <th>affiliations</th>\n",
       "      <th>auth-keywords</th>\n",
       "      <th>title</th>\n",
       "      <th>publish_name</th>\n",
       "      <th>subject-cluster</th>\n",
       "    </tr>\n",
       "  </thead>\n",
       "  <tbody>\n",
       "    <tr>\n",
       "      <th>count</th>\n",
       "      <td>42850</td>\n",
       "      <td>42850</td>\n",
       "      <td>42850</td>\n",
       "      <td>42850</td>\n",
       "      <td>42850</td>\n",
       "      <td>42850</td>\n",
       "      <td>42850</td>\n",
       "    </tr>\n",
       "    <tr>\n",
       "      <th>unique</th>\n",
       "      <td>14099</td>\n",
       "      <td>38</td>\n",
       "      <td>8591</td>\n",
       "      <td>16290</td>\n",
       "      <td>16428</td>\n",
       "      <td>4685</td>\n",
       "      <td>11</td>\n",
       "    </tr>\n",
       "    <tr>\n",
       "      <th>top</th>\n",
       "      <td>['Chulalongkorn University']</td>\n",
       "      <td>['ASJC', 'SUBJABBR']</td>\n",
       "      <td>['Chulalongkorn University']</td>\n",
       "      <td>['Beyond Standard Model', 'Hadron-Hadron scatt...</td>\n",
       "      <td>Techno-economic sensitivity analysis for optim...</td>\n",
       "      <td>Sustainability (Switzerland)</td>\n",
       "      <td>Physics and Astronomy</td>\n",
       "    </tr>\n",
       "    <tr>\n",
       "      <th>freq</th>\n",
       "      <td>309</td>\n",
       "      <td>13853</td>\n",
       "      <td>9684</td>\n",
       "      <td>18</td>\n",
       "      <td>12</td>\n",
       "      <td>734</td>\n",
       "      <td>10840</td>\n",
       "    </tr>\n",
       "  </tbody>\n",
       "</table>\n",
       "</div>"
      ],
      "text/plain": [
       "                       organizations       classifications  \\\n",
       "count                          42850                 42850   \n",
       "unique                         14099                    38   \n",
       "top     ['Chulalongkorn University']  ['ASJC', 'SUBJABBR']   \n",
       "freq                             309                 13853   \n",
       "\n",
       "                        affiliations  \\\n",
       "count                          42850   \n",
       "unique                          8591   \n",
       "top     ['Chulalongkorn University']   \n",
       "freq                            9684   \n",
       "\n",
       "                                            auth-keywords  \\\n",
       "count                                               42850   \n",
       "unique                                              16290   \n",
       "top     ['Beyond Standard Model', 'Hadron-Hadron scatt...   \n",
       "freq                                                   18   \n",
       "\n",
       "                                                    title  \\\n",
       "count                                               42850   \n",
       "unique                                              16428   \n",
       "top     Techno-economic sensitivity analysis for optim...   \n",
       "freq                                                   12   \n",
       "\n",
       "                        publish_name        subject-cluster  \n",
       "count                          42850                  42850  \n",
       "unique                          4685                     11  \n",
       "top     Sustainability (Switzerland)  Physics and Astronomy  \n",
       "freq                             734                  10840  "
      ]
     },
     "execution_count": 424,
     "metadata": {},
     "output_type": "execute_result"
    }
   ],
   "source": [
    "df_data_file_subject_clustering.describe()"
   ]
  },
  {
   "cell_type": "code",
   "execution_count": 423,
   "metadata": {},
   "outputs": [],
   "source": [
    "df_data_file_subject_clustering.drop(columns=['subject'], inplace=True)"
   ]
  },
  {
   "cell_type": "code",
   "execution_count": 425,
   "metadata": {},
   "outputs": [],
   "source": [
    "df_data_file_subject_clustering.to_csv('data_pandas/2.5_features_subject_cluster.csv', index=False, encoding='utf-8')"
   ]
  },
  {
   "cell_type": "markdown",
   "metadata": {},
   "source": [
    "## Publish name and Title"
   ]
  },
  {
   "cell_type": "code",
   "execution_count": 432,
   "metadata": {},
   "outputs": [],
   "source": [
    "df_data_file_pb_name_title = pd.read_csv('data_pandas/2.5_features_subject_cluster.csv', encoding='utf-8')"
   ]
  },
  {
   "cell_type": "code",
   "execution_count": 427,
   "metadata": {},
   "outputs": [],
   "source": [
    "df_data_file_pb_name_title = df_data_file"
   ]
  },
  {
   "cell_type": "code",
   "execution_count": 433,
   "metadata": {},
   "outputs": [
    {
     "data": {
      "text/plain": [
       "(42850, 7)"
      ]
     },
     "execution_count": 433,
     "metadata": {},
     "output_type": "execute_result"
    }
   ],
   "source": [
    "df_data_file_pb_name_title.shape"
   ]
  },
  {
   "cell_type": "code",
   "execution_count": 434,
   "metadata": {},
   "outputs": [
    {
     "name": "stderr",
     "output_type": "stream",
     "text": [
      "<>:16: SyntaxWarning: invalid escape sequence '\\w'\n",
      "<>:16: SyntaxWarning: invalid escape sequence '\\w'\n",
      "C:\\Users\\Yiwahpsp\\AppData\\Local\\Temp\\ipykernel_24164\\565023138.py:16: SyntaxWarning: invalid escape sequence '\\w'\n",
      "  df_data_file_pb_name_title['title'] = df_data_file_pb_name_title['title'].str.replace('[^\\w\\s]', '')  # Remove non-alphanumeric characters\n"
     ]
    }
   ],
   "source": [
    "# Clean the 'publish_name' column\n",
    "def is_valid_utf8(text):\n",
    "    try:\n",
    "        text.encode('utf-8')\n",
    "        return True\n",
    "    except UnicodeEncodeError:\n",
    "        return False\n",
    "\n",
    "df_data_file_pb_name_title['publish_name'] = df_data_file_pb_name_title['publish_name'].str.replace(r'[\\[\\]\\\"\\']', '', regex=True).str.strip().str.lower()\n",
    "df_data_file_pb_name_title['title'] = df_data_file_pb_name_title['title'].str.replace(r'[\\[\\]\\\"\\']', '', regex=True).str.strip().str.lower()\n",
    "\n",
    "# Filter rows with invalid UTF-8 encoding\n",
    "df_data_file_pb_name_title = df_data_file_pb_name_title[df_data_file_pb_name_title['publish_name'].apply(is_valid_utf8) & df_data_file_pb_name_title['title'].apply(is_valid_utf8)]\n",
    "\n",
    "# Additional cleaning (optional)\n",
    "df_data_file_pb_name_title['title'] = df_data_file_pb_name_title['title'].str.replace('[^\\w\\s]', '')  # Remove non-alphanumeric characters\n"
   ]
  },
  {
   "cell_type": "code",
   "execution_count": 436,
   "metadata": {},
   "outputs": [
    {
     "data": {
      "text/html": [
       "<div>\n",
       "<style scoped>\n",
       "    .dataframe tbody tr th:only-of-type {\n",
       "        vertical-align: middle;\n",
       "    }\n",
       "\n",
       "    .dataframe tbody tr th {\n",
       "        vertical-align: top;\n",
       "    }\n",
       "\n",
       "    .dataframe thead th {\n",
       "        text-align: right;\n",
       "    }\n",
       "</style>\n",
       "<table border=\"1\" class=\"dataframe\">\n",
       "  <thead>\n",
       "    <tr style=\"text-align: right;\">\n",
       "      <th></th>\n",
       "      <th>organizations</th>\n",
       "      <th>classifications</th>\n",
       "      <th>affiliations</th>\n",
       "      <th>auth-keywords</th>\n",
       "      <th>title</th>\n",
       "      <th>publish_name</th>\n",
       "      <th>subject-cluster</th>\n",
       "    </tr>\n",
       "  </thead>\n",
       "  <tbody>\n",
       "    <tr>\n",
       "      <th>0</th>\n",
       "      <td>['Center of Excellence in Catalysis and Cataly...</td>\n",
       "      <td>['CPXCLASS', 'ENCOMPASSCLASS', 'FLXCLASS', 'AS...</td>\n",
       "      <td>['Chulalongkorn University']</td>\n",
       "      <td>['Circulating fluidized bed', 'Computational f...</td>\n",
       "      <td>parametric study of hydrogen production via so...</td>\n",
       "      <td>chemical engineering science</td>\n",
       "      <td>Chemistry</td>\n",
       "    </tr>\n",
       "    <tr>\n",
       "      <th>1</th>\n",
       "      <td>['Center of Excellence in Catalysis and Cataly...</td>\n",
       "      <td>['CPXCLASS', 'ENCOMPASSCLASS', 'FLXCLASS', 'AS...</td>\n",
       "      <td>['Chulalongkorn University']</td>\n",
       "      <td>['Circulating fluidized bed', 'Computational f...</td>\n",
       "      <td>parametric study of hydrogen production via so...</td>\n",
       "      <td>chemical engineering science</td>\n",
       "      <td>Engineering</td>\n",
       "    </tr>\n",
       "    <tr>\n",
       "      <th>2</th>\n",
       "      <td>['Center of Excellence in Catalysis and Cataly...</td>\n",
       "      <td>['CPXCLASS', 'ENCOMPASSCLASS', 'FLXCLASS', 'AS...</td>\n",
       "      <td>['Chulalongkorn University']</td>\n",
       "      <td>['Circulating fluidized bed', 'Computational f...</td>\n",
       "      <td>parametric study of hydrogen production via so...</td>\n",
       "      <td>chemical engineering science</td>\n",
       "      <td>Engineering</td>\n",
       "    </tr>\n",
       "    <tr>\n",
       "      <th>3</th>\n",
       "      <td>['Department of Chemistry', 'Faculty of Scienc...</td>\n",
       "      <td>['CPXCLASS', 'FLXCLASS', 'ASJC', 'SUBJABBR']</td>\n",
       "      <td>['Hirosaki University', 'Chulalongkorn Univers...</td>\n",
       "      <td>['Encapsulation', 'Fluoroalkylsilane', 'Natura...</td>\n",
       "      <td>superhydrophobic coating from fluoroalkylsilan...</td>\n",
       "      <td>applied surface science</td>\n",
       "      <td>Chemistry</td>\n",
       "    </tr>\n",
       "    <tr>\n",
       "      <th>4</th>\n",
       "      <td>['Department of Chemistry', 'Faculty of Scienc...</td>\n",
       "      <td>['CPXCLASS', 'FLXCLASS', 'ASJC', 'SUBJABBR']</td>\n",
       "      <td>['Hirosaki University', 'Chulalongkorn Univers...</td>\n",
       "      <td>['Encapsulation', 'Fluoroalkylsilane', 'Natura...</td>\n",
       "      <td>superhydrophobic coating from fluoroalkylsilan...</td>\n",
       "      <td>applied surface science</td>\n",
       "      <td>Physics and Astronomy</td>\n",
       "    </tr>\n",
       "  </tbody>\n",
       "</table>\n",
       "</div>"
      ],
      "text/plain": [
       "                                       organizations  \\\n",
       "0  ['Center of Excellence in Catalysis and Cataly...   \n",
       "1  ['Center of Excellence in Catalysis and Cataly...   \n",
       "2  ['Center of Excellence in Catalysis and Cataly...   \n",
       "3  ['Department of Chemistry', 'Faculty of Scienc...   \n",
       "4  ['Department of Chemistry', 'Faculty of Scienc...   \n",
       "\n",
       "                                     classifications  \\\n",
       "0  ['CPXCLASS', 'ENCOMPASSCLASS', 'FLXCLASS', 'AS...   \n",
       "1  ['CPXCLASS', 'ENCOMPASSCLASS', 'FLXCLASS', 'AS...   \n",
       "2  ['CPXCLASS', 'ENCOMPASSCLASS', 'FLXCLASS', 'AS...   \n",
       "3       ['CPXCLASS', 'FLXCLASS', 'ASJC', 'SUBJABBR']   \n",
       "4       ['CPXCLASS', 'FLXCLASS', 'ASJC', 'SUBJABBR']   \n",
       "\n",
       "                                        affiliations  \\\n",
       "0                       ['Chulalongkorn University']   \n",
       "1                       ['Chulalongkorn University']   \n",
       "2                       ['Chulalongkorn University']   \n",
       "3  ['Hirosaki University', 'Chulalongkorn Univers...   \n",
       "4  ['Hirosaki University', 'Chulalongkorn Univers...   \n",
       "\n",
       "                                       auth-keywords  \\\n",
       "0  ['Circulating fluidized bed', 'Computational f...   \n",
       "1  ['Circulating fluidized bed', 'Computational f...   \n",
       "2  ['Circulating fluidized bed', 'Computational f...   \n",
       "3  ['Encapsulation', 'Fluoroalkylsilane', 'Natura...   \n",
       "4  ['Encapsulation', 'Fluoroalkylsilane', 'Natura...   \n",
       "\n",
       "                                               title  \\\n",
       "0  parametric study of hydrogen production via so...   \n",
       "1  parametric study of hydrogen production via so...   \n",
       "2  parametric study of hydrogen production via so...   \n",
       "3  superhydrophobic coating from fluoroalkylsilan...   \n",
       "4  superhydrophobic coating from fluoroalkylsilan...   \n",
       "\n",
       "                   publish_name        subject-cluster  \n",
       "0  chemical engineering science              Chemistry  \n",
       "1  chemical engineering science            Engineering  \n",
       "2  chemical engineering science            Engineering  \n",
       "3       applied surface science              Chemistry  \n",
       "4       applied surface science  Physics and Astronomy  "
      ]
     },
     "execution_count": 436,
     "metadata": {},
     "output_type": "execute_result"
    }
   ],
   "source": [
    "df_data_file_pb_name_title.head(5)"
   ]
  },
  {
   "cell_type": "code",
   "execution_count": 435,
   "metadata": {},
   "outputs": [
    {
     "data": {
      "text/plain": [
       "(42850, 7)"
      ]
     },
     "execution_count": 435,
     "metadata": {},
     "output_type": "execute_result"
    }
   ],
   "source": [
    "df_data_file_pb_name_title.shape"
   ]
  },
  {
   "cell_type": "code",
   "execution_count": 437,
   "metadata": {},
   "outputs": [
    {
     "data": {
      "text/plain": [
       "organizations      0\n",
       "classifications    0\n",
       "affiliations       0\n",
       "auth-keywords      0\n",
       "title              0\n",
       "publish_name       0\n",
       "subject-cluster    0\n",
       "dtype: int64"
      ]
     },
     "execution_count": 437,
     "metadata": {},
     "output_type": "execute_result"
    }
   ],
   "source": [
    "df_data_file_pb_name_title.isnull().sum()"
   ]
  },
  {
   "cell_type": "code",
   "execution_count": 438,
   "metadata": {},
   "outputs": [],
   "source": [
    "df_data_file_pb_name_title.to_csv('data_pandas/3_features_publish_name_and_title.csv', index=False, encoding='utf-8')"
   ]
  },
  {
   "cell_type": "code",
   "execution_count": 439,
   "metadata": {},
   "outputs": [],
   "source": [
    "df_data_file = df_data_file_pb_name_title"
   ]
  },
  {
   "cell_type": "markdown",
   "metadata": {},
   "source": [
    "## Classification"
   ]
  },
  {
   "cell_type": "code",
   "execution_count": 440,
   "metadata": {},
   "outputs": [],
   "source": [
    "df_data_file_classification = pd.read_csv('data_pandas/3_features_publish_name_and_title.csv', encoding='utf-8')"
   ]
  },
  {
   "cell_type": "code",
   "execution_count": 210,
   "metadata": {},
   "outputs": [],
   "source": [
    "df_data_file_classification = df_data_file"
   ]
  },
  {
   "cell_type": "code",
   "execution_count": 441,
   "metadata": {},
   "outputs": [
    {
     "data": {
      "text/html": [
       "<div>\n",
       "<style scoped>\n",
       "    .dataframe tbody tr th:only-of-type {\n",
       "        vertical-align: middle;\n",
       "    }\n",
       "\n",
       "    .dataframe tbody tr th {\n",
       "        vertical-align: top;\n",
       "    }\n",
       "\n",
       "    .dataframe thead th {\n",
       "        text-align: right;\n",
       "    }\n",
       "</style>\n",
       "<table border=\"1\" class=\"dataframe\">\n",
       "  <thead>\n",
       "    <tr style=\"text-align: right;\">\n",
       "      <th></th>\n",
       "      <th>organizations</th>\n",
       "      <th>classifications</th>\n",
       "      <th>affiliations</th>\n",
       "      <th>auth-keywords</th>\n",
       "      <th>title</th>\n",
       "      <th>publish_name</th>\n",
       "      <th>subject-cluster</th>\n",
       "    </tr>\n",
       "  </thead>\n",
       "  <tbody>\n",
       "    <tr>\n",
       "      <th>count</th>\n",
       "      <td>42850</td>\n",
       "      <td>42850</td>\n",
       "      <td>42850</td>\n",
       "      <td>42850</td>\n",
       "      <td>42850</td>\n",
       "      <td>42850</td>\n",
       "      <td>42850</td>\n",
       "    </tr>\n",
       "    <tr>\n",
       "      <th>unique</th>\n",
       "      <td>14099</td>\n",
       "      <td>38</td>\n",
       "      <td>8591</td>\n",
       "      <td>16290</td>\n",
       "      <td>16421</td>\n",
       "      <td>4671</td>\n",
       "      <td>11</td>\n",
       "    </tr>\n",
       "    <tr>\n",
       "      <th>top</th>\n",
       "      <td>['Chulalongkorn University']</td>\n",
       "      <td>['ASJC', 'SUBJABBR']</td>\n",
       "      <td>['Chulalongkorn University']</td>\n",
       "      <td>['Beyond Standard Model', 'Hadron-Hadron scatt...</td>\n",
       "      <td>q-meter: quality monitoring system for telecom...</td>\n",
       "      <td>sustainability (switzerland)</td>\n",
       "      <td>Physics and Astronomy</td>\n",
       "    </tr>\n",
       "    <tr>\n",
       "      <th>freq</th>\n",
       "      <td>309</td>\n",
       "      <td>13853</td>\n",
       "      <td>9684</td>\n",
       "      <td>18</td>\n",
       "      <td>12</td>\n",
       "      <td>734</td>\n",
       "      <td>10840</td>\n",
       "    </tr>\n",
       "  </tbody>\n",
       "</table>\n",
       "</div>"
      ],
      "text/plain": [
       "                       organizations       classifications  \\\n",
       "count                          42850                 42850   \n",
       "unique                         14099                    38   \n",
       "top     ['Chulalongkorn University']  ['ASJC', 'SUBJABBR']   \n",
       "freq                             309                 13853   \n",
       "\n",
       "                        affiliations  \\\n",
       "count                          42850   \n",
       "unique                          8591   \n",
       "top     ['Chulalongkorn University']   \n",
       "freq                            9684   \n",
       "\n",
       "                                            auth-keywords  \\\n",
       "count                                               42850   \n",
       "unique                                              16290   \n",
       "top     ['Beyond Standard Model', 'Hadron-Hadron scatt...   \n",
       "freq                                                   18   \n",
       "\n",
       "                                                    title  \\\n",
       "count                                               42850   \n",
       "unique                                              16421   \n",
       "top     q-meter: quality monitoring system for telecom...   \n",
       "freq                                                   12   \n",
       "\n",
       "                        publish_name        subject-cluster  \n",
       "count                          42850                  42850  \n",
       "unique                          4671                     11  \n",
       "top     sustainability (switzerland)  Physics and Astronomy  \n",
       "freq                             734                  10840  "
      ]
     },
     "execution_count": 441,
     "metadata": {},
     "output_type": "execute_result"
    }
   ],
   "source": [
    "df_data_file_classification.describe(include='all')"
   ]
  },
  {
   "cell_type": "code",
   "execution_count": 442,
   "metadata": {},
   "outputs": [],
   "source": [
    "df_data_file_classification['classifications'] = df_data_file_classification['classifications'].apply(ast.literal_eval)"
   ]
  },
  {
   "cell_type": "code",
   "execution_count": 443,
   "metadata": {},
   "outputs": [],
   "source": [
    "df_data_file_classification = df_data_file_classification.explode('classifications').reset_index(drop=True)"
   ]
  },
  {
   "cell_type": "code",
   "execution_count": 444,
   "metadata": {},
   "outputs": [
    {
     "data": {
      "text/plain": [
       "<bound method DataFrame.drop_duplicates of                                             organizations classifications  \\\n",
       "0       ['Center of Excellence in Catalysis and Cataly...        CPXCLASS   \n",
       "1       ['Center of Excellence in Catalysis and Cataly...  ENCOMPASSCLASS   \n",
       "2       ['Center of Excellence in Catalysis and Cataly...        FLXCLASS   \n",
       "3       ['Center of Excellence in Catalysis and Cataly...            ASJC   \n",
       "4       ['Center of Excellence in Catalysis and Cataly...        SUBJABBR   \n",
       "...                                                   ...             ...   \n",
       "138609  ['Faculty of Applied Science and Center for Pr...            ASJC   \n",
       "138610  ['Faculty of Applied Science and Center for Pr...        SUBJABBR   \n",
       "138611  ['Faculty of Applied Science and Center for Pr...        GEOCLASS   \n",
       "138612  ['Faculty of Applied Science and Center for Pr...            ASJC   \n",
       "138613  ['Faculty of Applied Science and Center for Pr...        SUBJABBR   \n",
       "\n",
       "                                             affiliations  \\\n",
       "0                            ['Chulalongkorn University']   \n",
       "1                            ['Chulalongkorn University']   \n",
       "2                            ['Chulalongkorn University']   \n",
       "3                            ['Chulalongkorn University']   \n",
       "4                            ['Chulalongkorn University']   \n",
       "...                                                   ...   \n",
       "138609  ['Chulalongkorn University', 'Cambodia Univers...   \n",
       "138610  ['Chulalongkorn University', 'Cambodia Univers...   \n",
       "138611  ['Chulalongkorn University', 'Cambodia Univers...   \n",
       "138612  ['Chulalongkorn University', 'Cambodia Univers...   \n",
       "138613  ['Chulalongkorn University', 'Cambodia Univers...   \n",
       "\n",
       "                                            auth-keywords  \\\n",
       "0       ['Circulating fluidized bed', 'Computational f...   \n",
       "1       ['Circulating fluidized bed', 'Computational f...   \n",
       "2       ['Circulating fluidized bed', 'Computational f...   \n",
       "3       ['Circulating fluidized bed', 'Computational f...   \n",
       "4       ['Circulating fluidized bed', 'Computational f...   \n",
       "...                                                   ...   \n",
       "138609  ['Cambodia', 'consumption', 'expenditure', 'Im...   \n",
       "138610  ['Cambodia', 'consumption', 'expenditure', 'Im...   \n",
       "138611  ['Cambodia', 'consumption', 'expenditure', 'Im...   \n",
       "138612  ['Cambodia', 'consumption', 'expenditure', 'Im...   \n",
       "138613  ['Cambodia', 'consumption', 'expenditure', 'Im...   \n",
       "\n",
       "                                                    title  \\\n",
       "0       parametric study of hydrogen production via so...   \n",
       "1       parametric study of hydrogen production via so...   \n",
       "2       parametric study of hydrogen production via so...   \n",
       "3       parametric study of hydrogen production via so...   \n",
       "4       parametric study of hydrogen production via so...   \n",
       "...                                                   ...   \n",
       "138609  effects of remittances on household poverty an...   \n",
       "138610  effects of remittances on household poverty an...   \n",
       "138611  effects of remittances on household poverty an...   \n",
       "138612  effects of remittances on household poverty an...   \n",
       "138613  effects of remittances on household poverty an...   \n",
       "\n",
       "                               publish_name  subject-cluster  \n",
       "0              chemical engineering science        Chemistry  \n",
       "1              chemical engineering science        Chemistry  \n",
       "2              chemical engineering science        Chemistry  \n",
       "3              chemical engineering science        Chemistry  \n",
       "4              chemical engineering science        Chemistry  \n",
       "...                                     ...              ...  \n",
       "138609  journal of the asia pacific economy  Social Sciences  \n",
       "138610  journal of the asia pacific economy  Social Sciences  \n",
       "138611  journal of the asia pacific economy  Social Sciences  \n",
       "138612  journal of the asia pacific economy  Social Sciences  \n",
       "138613  journal of the asia pacific economy  Social Sciences  \n",
       "\n",
       "[138614 rows x 7 columns]>"
      ]
     },
     "execution_count": 444,
     "metadata": {},
     "output_type": "execute_result"
    }
   ],
   "source": [
    "df_data_file_classification.drop_duplicates"
   ]
  },
  {
   "cell_type": "code",
   "execution_count": 445,
   "metadata": {},
   "outputs": [
    {
     "data": {
      "text/plain": [
       "(138614, 7)"
      ]
     },
     "execution_count": 445,
     "metadata": {},
     "output_type": "execute_result"
    }
   ],
   "source": [
    "df_data_file_classification.shape"
   ]
  },
  {
   "cell_type": "code",
   "execution_count": 446,
   "metadata": {},
   "outputs": [
    {
     "data": {
      "text/html": [
       "<div>\n",
       "<style scoped>\n",
       "    .dataframe tbody tr th:only-of-type {\n",
       "        vertical-align: middle;\n",
       "    }\n",
       "\n",
       "    .dataframe tbody tr th {\n",
       "        vertical-align: top;\n",
       "    }\n",
       "\n",
       "    .dataframe thead th {\n",
       "        text-align: right;\n",
       "    }\n",
       "</style>\n",
       "<table border=\"1\" class=\"dataframe\">\n",
       "  <thead>\n",
       "    <tr style=\"text-align: right;\">\n",
       "      <th></th>\n",
       "      <th>organizations</th>\n",
       "      <th>classifications</th>\n",
       "      <th>affiliations</th>\n",
       "      <th>auth-keywords</th>\n",
       "      <th>title</th>\n",
       "      <th>publish_name</th>\n",
       "      <th>subject-cluster</th>\n",
       "    </tr>\n",
       "  </thead>\n",
       "  <tbody>\n",
       "    <tr>\n",
       "      <th>0</th>\n",
       "      <td>['Center of Excellence in Catalysis and Cataly...</td>\n",
       "      <td>CPXCLASS</td>\n",
       "      <td>['Chulalongkorn University']</td>\n",
       "      <td>['Circulating fluidized bed', 'Computational f...</td>\n",
       "      <td>parametric study of hydrogen production via so...</td>\n",
       "      <td>chemical engineering science</td>\n",
       "      <td>Chemistry</td>\n",
       "    </tr>\n",
       "    <tr>\n",
       "      <th>1</th>\n",
       "      <td>['Center of Excellence in Catalysis and Cataly...</td>\n",
       "      <td>ENCOMPASSCLASS</td>\n",
       "      <td>['Chulalongkorn University']</td>\n",
       "      <td>['Circulating fluidized bed', 'Computational f...</td>\n",
       "      <td>parametric study of hydrogen production via so...</td>\n",
       "      <td>chemical engineering science</td>\n",
       "      <td>Chemistry</td>\n",
       "    </tr>\n",
       "    <tr>\n",
       "      <th>2</th>\n",
       "      <td>['Center of Excellence in Catalysis and Cataly...</td>\n",
       "      <td>FLXCLASS</td>\n",
       "      <td>['Chulalongkorn University']</td>\n",
       "      <td>['Circulating fluidized bed', 'Computational f...</td>\n",
       "      <td>parametric study of hydrogen production via so...</td>\n",
       "      <td>chemical engineering science</td>\n",
       "      <td>Chemistry</td>\n",
       "    </tr>\n",
       "    <tr>\n",
       "      <th>3</th>\n",
       "      <td>['Center of Excellence in Catalysis and Cataly...</td>\n",
       "      <td>ASJC</td>\n",
       "      <td>['Chulalongkorn University']</td>\n",
       "      <td>['Circulating fluidized bed', 'Computational f...</td>\n",
       "      <td>parametric study of hydrogen production via so...</td>\n",
       "      <td>chemical engineering science</td>\n",
       "      <td>Chemistry</td>\n",
       "    </tr>\n",
       "    <tr>\n",
       "      <th>4</th>\n",
       "      <td>['Center of Excellence in Catalysis and Cataly...</td>\n",
       "      <td>SUBJABBR</td>\n",
       "      <td>['Chulalongkorn University']</td>\n",
       "      <td>['Circulating fluidized bed', 'Computational f...</td>\n",
       "      <td>parametric study of hydrogen production via so...</td>\n",
       "      <td>chemical engineering science</td>\n",
       "      <td>Chemistry</td>\n",
       "    </tr>\n",
       "  </tbody>\n",
       "</table>\n",
       "</div>"
      ],
      "text/plain": [
       "                                       organizations classifications  \\\n",
       "0  ['Center of Excellence in Catalysis and Cataly...        CPXCLASS   \n",
       "1  ['Center of Excellence in Catalysis and Cataly...  ENCOMPASSCLASS   \n",
       "2  ['Center of Excellence in Catalysis and Cataly...        FLXCLASS   \n",
       "3  ['Center of Excellence in Catalysis and Cataly...            ASJC   \n",
       "4  ['Center of Excellence in Catalysis and Cataly...        SUBJABBR   \n",
       "\n",
       "                   affiliations  \\\n",
       "0  ['Chulalongkorn University']   \n",
       "1  ['Chulalongkorn University']   \n",
       "2  ['Chulalongkorn University']   \n",
       "3  ['Chulalongkorn University']   \n",
       "4  ['Chulalongkorn University']   \n",
       "\n",
       "                                       auth-keywords  \\\n",
       "0  ['Circulating fluidized bed', 'Computational f...   \n",
       "1  ['Circulating fluidized bed', 'Computational f...   \n",
       "2  ['Circulating fluidized bed', 'Computational f...   \n",
       "3  ['Circulating fluidized bed', 'Computational f...   \n",
       "4  ['Circulating fluidized bed', 'Computational f...   \n",
       "\n",
       "                                               title  \\\n",
       "0  parametric study of hydrogen production via so...   \n",
       "1  parametric study of hydrogen production via so...   \n",
       "2  parametric study of hydrogen production via so...   \n",
       "3  parametric study of hydrogen production via so...   \n",
       "4  parametric study of hydrogen production via so...   \n",
       "\n",
       "                   publish_name subject-cluster  \n",
       "0  chemical engineering science       Chemistry  \n",
       "1  chemical engineering science       Chemistry  \n",
       "2  chemical engineering science       Chemistry  \n",
       "3  chemical engineering science       Chemistry  \n",
       "4  chemical engineering science       Chemistry  "
      ]
     },
     "execution_count": 446,
     "metadata": {},
     "output_type": "execute_result"
    }
   ],
   "source": [
    "df_data_file_classification.head(5)"
   ]
  },
  {
   "cell_type": "code",
   "execution_count": 447,
   "metadata": {},
   "outputs": [],
   "source": [
    "human_readable_mapping = {\n",
    "    'ASJC': 'all subject journal classification',\n",
    "    'SUBJABBR': 'subject abbreviation',\n",
    "    'EMCLASS': 'emerging class',\n",
    "    'FLXCLASS': 'flexible classification',\n",
    "    'CPXCLASS': 'complex classification',\n",
    "    'CABSCLASS': 'cabinet classification',\n",
    "    'GEOCLASS': 'geographic classification',\n",
    "    'ENCOMPASSCLASS': 'encompass classification'\n",
    "}\n",
    "\n",
    "# Replace abbreviations with human-readable terms\n",
    "df_data_file_classification['classifications'] = df_data_file_classification['classifications'].replace(human_readable_mapping)"
   ]
  },
  {
   "cell_type": "code",
   "execution_count": 448,
   "metadata": {},
   "outputs": [
    {
     "data": {
      "text/plain": [
       "classifications\n",
       "all subject journal classification    42850\n",
       "subject abbreviation                  42850\n",
       "flexible classification               15506\n",
       "complex classification                15369\n",
       "emerging class                        12623\n",
       "cabinet classification                 4078\n",
       "geographic classification              3852\n",
       "encompass classification               1486\n",
       "Name: count, dtype: int64"
      ]
     },
     "execution_count": 448,
     "metadata": {},
     "output_type": "execute_result"
    }
   ],
   "source": [
    "df_data_file_classification['classifications'].value_counts()"
   ]
  },
  {
   "cell_type": "code",
   "execution_count": 449,
   "metadata": {},
   "outputs": [],
   "source": [
    "df_data_file_classification = df_data_file_classification.rename(columns={'classifications': 'classification'})"
   ]
  },
  {
   "cell_type": "code",
   "execution_count": 450,
   "metadata": {},
   "outputs": [
    {
     "data": {
      "text/plain": [
       "Index(['organizations', 'classification', 'affiliations', 'auth-keywords',\n",
       "       'title', 'publish_name', 'subject-cluster'],\n",
       "      dtype='object')"
      ]
     },
     "execution_count": 450,
     "metadata": {},
     "output_type": "execute_result"
    }
   ],
   "source": [
    "df_data_file_classification.columns"
   ]
  },
  {
   "cell_type": "code",
   "execution_count": 451,
   "metadata": {},
   "outputs": [
    {
     "data": {
      "text/plain": [
       "(138614, 7)"
      ]
     },
     "execution_count": 451,
     "metadata": {},
     "output_type": "execute_result"
    }
   ],
   "source": [
    "df_data_file_classification.shape"
   ]
  },
  {
   "cell_type": "code",
   "execution_count": 452,
   "metadata": {},
   "outputs": [],
   "source": [
    "df_data_file_classification.drop_duplicates(inplace=True)"
   ]
  },
  {
   "cell_type": "code",
   "execution_count": 453,
   "metadata": {},
   "outputs": [
    {
     "data": {
      "text/plain": [
       "(103242, 7)"
      ]
     },
     "execution_count": 453,
     "metadata": {},
     "output_type": "execute_result"
    }
   ],
   "source": [
    "df_data_file_classification.shape"
   ]
  },
  {
   "cell_type": "code",
   "execution_count": 454,
   "metadata": {},
   "outputs": [
    {
     "data": {
      "text/html": [
       "<div>\n",
       "<style scoped>\n",
       "    .dataframe tbody tr th:only-of-type {\n",
       "        vertical-align: middle;\n",
       "    }\n",
       "\n",
       "    .dataframe tbody tr th {\n",
       "        vertical-align: top;\n",
       "    }\n",
       "\n",
       "    .dataframe thead th {\n",
       "        text-align: right;\n",
       "    }\n",
       "</style>\n",
       "<table border=\"1\" class=\"dataframe\">\n",
       "  <thead>\n",
       "    <tr style=\"text-align: right;\">\n",
       "      <th></th>\n",
       "      <th>organizations</th>\n",
       "      <th>classification</th>\n",
       "      <th>affiliations</th>\n",
       "      <th>auth-keywords</th>\n",
       "      <th>title</th>\n",
       "      <th>publish_name</th>\n",
       "      <th>subject-cluster</th>\n",
       "    </tr>\n",
       "  </thead>\n",
       "  <tbody>\n",
       "    <tr>\n",
       "      <th>0</th>\n",
       "      <td>['Center of Excellence in Catalysis and Cataly...</td>\n",
       "      <td>complex classification</td>\n",
       "      <td>['Chulalongkorn University']</td>\n",
       "      <td>['Circulating fluidized bed', 'Computational f...</td>\n",
       "      <td>parametric study of hydrogen production via so...</td>\n",
       "      <td>chemical engineering science</td>\n",
       "      <td>Chemistry</td>\n",
       "    </tr>\n",
       "    <tr>\n",
       "      <th>1</th>\n",
       "      <td>['Center of Excellence in Catalysis and Cataly...</td>\n",
       "      <td>encompass classification</td>\n",
       "      <td>['Chulalongkorn University']</td>\n",
       "      <td>['Circulating fluidized bed', 'Computational f...</td>\n",
       "      <td>parametric study of hydrogen production via so...</td>\n",
       "      <td>chemical engineering science</td>\n",
       "      <td>Chemistry</td>\n",
       "    </tr>\n",
       "    <tr>\n",
       "      <th>2</th>\n",
       "      <td>['Center of Excellence in Catalysis and Cataly...</td>\n",
       "      <td>flexible classification</td>\n",
       "      <td>['Chulalongkorn University']</td>\n",
       "      <td>['Circulating fluidized bed', 'Computational f...</td>\n",
       "      <td>parametric study of hydrogen production via so...</td>\n",
       "      <td>chemical engineering science</td>\n",
       "      <td>Chemistry</td>\n",
       "    </tr>\n",
       "    <tr>\n",
       "      <th>3</th>\n",
       "      <td>['Center of Excellence in Catalysis and Cataly...</td>\n",
       "      <td>all subject journal classification</td>\n",
       "      <td>['Chulalongkorn University']</td>\n",
       "      <td>['Circulating fluidized bed', 'Computational f...</td>\n",
       "      <td>parametric study of hydrogen production via so...</td>\n",
       "      <td>chemical engineering science</td>\n",
       "      <td>Chemistry</td>\n",
       "    </tr>\n",
       "    <tr>\n",
       "      <th>4</th>\n",
       "      <td>['Center of Excellence in Catalysis and Cataly...</td>\n",
       "      <td>subject abbreviation</td>\n",
       "      <td>['Chulalongkorn University']</td>\n",
       "      <td>['Circulating fluidized bed', 'Computational f...</td>\n",
       "      <td>parametric study of hydrogen production via so...</td>\n",
       "      <td>chemical engineering science</td>\n",
       "      <td>Chemistry</td>\n",
       "    </tr>\n",
       "  </tbody>\n",
       "</table>\n",
       "</div>"
      ],
      "text/plain": [
       "                                       organizations  \\\n",
       "0  ['Center of Excellence in Catalysis and Cataly...   \n",
       "1  ['Center of Excellence in Catalysis and Cataly...   \n",
       "2  ['Center of Excellence in Catalysis and Cataly...   \n",
       "3  ['Center of Excellence in Catalysis and Cataly...   \n",
       "4  ['Center of Excellence in Catalysis and Cataly...   \n",
       "\n",
       "                       classification                  affiliations  \\\n",
       "0              complex classification  ['Chulalongkorn University']   \n",
       "1            encompass classification  ['Chulalongkorn University']   \n",
       "2             flexible classification  ['Chulalongkorn University']   \n",
       "3  all subject journal classification  ['Chulalongkorn University']   \n",
       "4                subject abbreviation  ['Chulalongkorn University']   \n",
       "\n",
       "                                       auth-keywords  \\\n",
       "0  ['Circulating fluidized bed', 'Computational f...   \n",
       "1  ['Circulating fluidized bed', 'Computational f...   \n",
       "2  ['Circulating fluidized bed', 'Computational f...   \n",
       "3  ['Circulating fluidized bed', 'Computational f...   \n",
       "4  ['Circulating fluidized bed', 'Computational f...   \n",
       "\n",
       "                                               title  \\\n",
       "0  parametric study of hydrogen production via so...   \n",
       "1  parametric study of hydrogen production via so...   \n",
       "2  parametric study of hydrogen production via so...   \n",
       "3  parametric study of hydrogen production via so...   \n",
       "4  parametric study of hydrogen production via so...   \n",
       "\n",
       "                   publish_name subject-cluster  \n",
       "0  chemical engineering science       Chemistry  \n",
       "1  chemical engineering science       Chemistry  \n",
       "2  chemical engineering science       Chemistry  \n",
       "3  chemical engineering science       Chemistry  \n",
       "4  chemical engineering science       Chemistry  "
      ]
     },
     "execution_count": 454,
     "metadata": {},
     "output_type": "execute_result"
    }
   ],
   "source": [
    "df_data_file_classification.head(5)"
   ]
  },
  {
   "cell_type": "code",
   "execution_count": 455,
   "metadata": {},
   "outputs": [],
   "source": [
    "df_data_file_classification.to_csv('data_pandas/4_features_classification.csv', index=False, encoding='utf-8')"
   ]
  },
  {
   "cell_type": "code",
   "execution_count": 456,
   "metadata": {},
   "outputs": [],
   "source": [
    "df_data_file = df_data_file_classification"
   ]
  },
  {
   "cell_type": "markdown",
   "metadata": {},
   "source": [
    "## Organization"
   ]
  },
  {
   "cell_type": "code",
   "execution_count": 496,
   "metadata": {},
   "outputs": [],
   "source": [
    "df_data_file_organization = pd.read_csv('data_pandas/4_features_classification.csv', encoding='utf-8')"
   ]
  },
  {
   "cell_type": "code",
   "execution_count": 458,
   "metadata": {},
   "outputs": [
    {
     "name": "stdout",
     "output_type": "stream",
     "text": [
      "<class 'pandas.core.frame.DataFrame'>\n",
      "Index: 103242 entries, 0 to 138610\n",
      "Data columns (total 7 columns):\n",
      " #   Column           Non-Null Count   Dtype \n",
      "---  ------           --------------   ----- \n",
      " 0   organizations    103242 non-null  object\n",
      " 1   classification   103242 non-null  object\n",
      " 2   affiliations     103242 non-null  object\n",
      " 3   auth-keywords    103242 non-null  object\n",
      " 4   title            103242 non-null  object\n",
      " 5   publish_name     103242 non-null  object\n",
      " 6   subject-cluster  103242 non-null  object\n",
      "dtypes: object(7)\n",
      "memory usage: 6.3+ MB\n"
     ]
    }
   ],
   "source": [
    "df_data_file_classification.info()"
   ]
  },
  {
   "cell_type": "code",
   "execution_count": 463,
   "metadata": {},
   "outputs": [
    {
     "data": {
      "text/html": [
       "<div>\n",
       "<style scoped>\n",
       "    .dataframe tbody tr th:only-of-type {\n",
       "        vertical-align: middle;\n",
       "    }\n",
       "\n",
       "    .dataframe tbody tr th {\n",
       "        vertical-align: top;\n",
       "    }\n",
       "\n",
       "    .dataframe thead th {\n",
       "        text-align: right;\n",
       "    }\n",
       "</style>\n",
       "<table border=\"1\" class=\"dataframe\">\n",
       "  <thead>\n",
       "    <tr style=\"text-align: right;\">\n",
       "      <th></th>\n",
       "      <th>organizations</th>\n",
       "      <th>classification</th>\n",
       "      <th>affiliations</th>\n",
       "      <th>auth-keywords</th>\n",
       "      <th>title</th>\n",
       "      <th>publish_name</th>\n",
       "      <th>subject-cluster</th>\n",
       "    </tr>\n",
       "  </thead>\n",
       "  <tbody>\n",
       "    <tr>\n",
       "      <th>count</th>\n",
       "      <td>103242</td>\n",
       "      <td>103242</td>\n",
       "      <td>103242</td>\n",
       "      <td>103242</td>\n",
       "      <td>103242</td>\n",
       "      <td>103242</td>\n",
       "      <td>103242</td>\n",
       "    </tr>\n",
       "    <tr>\n",
       "      <th>unique</th>\n",
       "      <td>14099</td>\n",
       "      <td>8</td>\n",
       "      <td>8591</td>\n",
       "      <td>16290</td>\n",
       "      <td>16421</td>\n",
       "      <td>4671</td>\n",
       "      <td>11</td>\n",
       "    </tr>\n",
       "    <tr>\n",
       "      <th>top</th>\n",
       "      <td>['Department of Computer Engineering', 'Facult...</td>\n",
       "      <td>all subject journal classification</td>\n",
       "      <td>['Chulalongkorn University']</td>\n",
       "      <td>['feast/famine feeding', 'glycerol', 'mixed cu...</td>\n",
       "      <td>the potential of biodiesel production from gra...</td>\n",
       "      <td>acm international conference proceeding series</td>\n",
       "      <td>Physics and Astronomy</td>\n",
       "    </tr>\n",
       "    <tr>\n",
       "      <th>freq</th>\n",
       "      <td>640</td>\n",
       "      <td>32135</td>\n",
       "      <td>22522</td>\n",
       "      <td>36</td>\n",
       "      <td>36</td>\n",
       "      <td>1578</td>\n",
       "      <td>24342</td>\n",
       "    </tr>\n",
       "  </tbody>\n",
       "</table>\n",
       "</div>"
      ],
      "text/plain": [
       "                                            organizations  \\\n",
       "count                                              103242   \n",
       "unique                                              14099   \n",
       "top     ['Department of Computer Engineering', 'Facult...   \n",
       "freq                                                  640   \n",
       "\n",
       "                            classification                  affiliations  \\\n",
       "count                               103242                        103242   \n",
       "unique                                   8                          8591   \n",
       "top     all subject journal classification  ['Chulalongkorn University']   \n",
       "freq                                 32135                         22522   \n",
       "\n",
       "                                            auth-keywords  \\\n",
       "count                                              103242   \n",
       "unique                                              16290   \n",
       "top     ['feast/famine feeding', 'glycerol', 'mixed cu...   \n",
       "freq                                                   36   \n",
       "\n",
       "                                                    title  \\\n",
       "count                                              103242   \n",
       "unique                                              16421   \n",
       "top     the potential of biodiesel production from gra...   \n",
       "freq                                                   36   \n",
       "\n",
       "                                          publish_name        subject-cluster  \n",
       "count                                           103242                 103242  \n",
       "unique                                            4671                     11  \n",
       "top     acm international conference proceeding series  Physics and Astronomy  \n",
       "freq                                              1578                  24342  "
      ]
     },
     "execution_count": 463,
     "metadata": {},
     "output_type": "execute_result"
    }
   ],
   "source": [
    "df_data_file_organization.describe()"
   ]
  },
  {
   "cell_type": "code",
   "execution_count": 497,
   "metadata": {},
   "outputs": [
    {
     "data": {
      "text/html": [
       "<div>\n",
       "<style scoped>\n",
       "    .dataframe tbody tr th:only-of-type {\n",
       "        vertical-align: middle;\n",
       "    }\n",
       "\n",
       "    .dataframe tbody tr th {\n",
       "        vertical-align: top;\n",
       "    }\n",
       "\n",
       "    .dataframe thead th {\n",
       "        text-align: right;\n",
       "    }\n",
       "</style>\n",
       "<table border=\"1\" class=\"dataframe\">\n",
       "  <thead>\n",
       "    <tr style=\"text-align: right;\">\n",
       "      <th></th>\n",
       "      <th>organizations</th>\n",
       "      <th>classification</th>\n",
       "      <th>affiliations</th>\n",
       "      <th>auth-keywords</th>\n",
       "      <th>title</th>\n",
       "      <th>publish_name</th>\n",
       "      <th>subject-cluster</th>\n",
       "    </tr>\n",
       "  </thead>\n",
       "  <tbody>\n",
       "    <tr>\n",
       "      <th>0</th>\n",
       "      <td>[Center of Excellence in Catalysis and Catalyt...</td>\n",
       "      <td>complex classification</td>\n",
       "      <td>['Chulalongkorn University']</td>\n",
       "      <td>['Circulating fluidized bed', 'Computational f...</td>\n",
       "      <td>parametric study of hydrogen production via so...</td>\n",
       "      <td>chemical engineering science</td>\n",
       "      <td>Chemistry</td>\n",
       "    </tr>\n",
       "    <tr>\n",
       "      <th>1</th>\n",
       "      <td>[Center of Excellence in Catalysis and Catalyt...</td>\n",
       "      <td>encompass classification</td>\n",
       "      <td>['Chulalongkorn University']</td>\n",
       "      <td>['Circulating fluidized bed', 'Computational f...</td>\n",
       "      <td>parametric study of hydrogen production via so...</td>\n",
       "      <td>chemical engineering science</td>\n",
       "      <td>Chemistry</td>\n",
       "    </tr>\n",
       "    <tr>\n",
       "      <th>2</th>\n",
       "      <td>[Center of Excellence in Catalysis and Catalyt...</td>\n",
       "      <td>flexible classification</td>\n",
       "      <td>['Chulalongkorn University']</td>\n",
       "      <td>['Circulating fluidized bed', 'Computational f...</td>\n",
       "      <td>parametric study of hydrogen production via so...</td>\n",
       "      <td>chemical engineering science</td>\n",
       "      <td>Chemistry</td>\n",
       "    </tr>\n",
       "    <tr>\n",
       "      <th>3</th>\n",
       "      <td>[Center of Excellence in Catalysis and Catalyt...</td>\n",
       "      <td>all subject journal classification</td>\n",
       "      <td>['Chulalongkorn University']</td>\n",
       "      <td>['Circulating fluidized bed', 'Computational f...</td>\n",
       "      <td>parametric study of hydrogen production via so...</td>\n",
       "      <td>chemical engineering science</td>\n",
       "      <td>Chemistry</td>\n",
       "    </tr>\n",
       "    <tr>\n",
       "      <th>4</th>\n",
       "      <td>[Center of Excellence in Catalysis and Catalyt...</td>\n",
       "      <td>subject abbreviation</td>\n",
       "      <td>['Chulalongkorn University']</td>\n",
       "      <td>['Circulating fluidized bed', 'Computational f...</td>\n",
       "      <td>parametric study of hydrogen production via so...</td>\n",
       "      <td>chemical engineering science</td>\n",
       "      <td>Chemistry</td>\n",
       "    </tr>\n",
       "  </tbody>\n",
       "</table>\n",
       "</div>"
      ],
      "text/plain": [
       "                                       organizations  \\\n",
       "0  [Center of Excellence in Catalysis and Catalyt...   \n",
       "1  [Center of Excellence in Catalysis and Catalyt...   \n",
       "2  [Center of Excellence in Catalysis and Catalyt...   \n",
       "3  [Center of Excellence in Catalysis and Catalyt...   \n",
       "4  [Center of Excellence in Catalysis and Catalyt...   \n",
       "\n",
       "                       classification                  affiliations  \\\n",
       "0              complex classification  ['Chulalongkorn University']   \n",
       "1            encompass classification  ['Chulalongkorn University']   \n",
       "2             flexible classification  ['Chulalongkorn University']   \n",
       "3  all subject journal classification  ['Chulalongkorn University']   \n",
       "4                subject abbreviation  ['Chulalongkorn University']   \n",
       "\n",
       "                                       auth-keywords  \\\n",
       "0  ['Circulating fluidized bed', 'Computational f...   \n",
       "1  ['Circulating fluidized bed', 'Computational f...   \n",
       "2  ['Circulating fluidized bed', 'Computational f...   \n",
       "3  ['Circulating fluidized bed', 'Computational f...   \n",
       "4  ['Circulating fluidized bed', 'Computational f...   \n",
       "\n",
       "                                               title  \\\n",
       "0  parametric study of hydrogen production via so...   \n",
       "1  parametric study of hydrogen production via so...   \n",
       "2  parametric study of hydrogen production via so...   \n",
       "3  parametric study of hydrogen production via so...   \n",
       "4  parametric study of hydrogen production via so...   \n",
       "\n",
       "                   publish_name subject-cluster  \n",
       "0  chemical engineering science       Chemistry  \n",
       "1  chemical engineering science       Chemistry  \n",
       "2  chemical engineering science       Chemistry  \n",
       "3  chemical engineering science       Chemistry  \n",
       "4  chemical engineering science       Chemistry  "
      ]
     },
     "execution_count": 497,
     "metadata": {},
     "output_type": "execute_result"
    }
   ],
   "source": [
    "def remove_university(org_list):\n",
    "  if org_list is None:\n",
    "    return []\n",
    "  return [org for org in org_list if org and 'university' not in org.lower()]\n",
    "\n",
    "df_data_file_organization['organizations'] = df_data_file_organization['organizations'].apply(ast.literal_eval).apply(remove_university)\n",
    "df_data_file_organization.head()"
   ]
  },
  {
   "cell_type": "code",
   "execution_count": 471,
   "metadata": {},
   "outputs": [],
   "source": [
    "df_col_organizations = df_data_file_organization['organizations']"
   ]
  },
  {
   "cell_type": "code",
   "execution_count": 475,
   "metadata": {},
   "outputs": [
    {
     "data": {
      "text/plain": [
       "0    Center of Excellence in Catalysis and Catalyti...\n",
       "0                   Department of Chemical Engineering\n",
       "0                               Faculty of Engineering\n",
       "0                                Fuels Research Center\n",
       "0                    Department of Chemical Technology\n",
       "Name: organizations, dtype: object"
      ]
     },
     "execution_count": 475,
     "metadata": {},
     "output_type": "execute_result"
    }
   ],
   "source": [
    "df_col_organizations.head()"
   ]
  },
  {
   "cell_type": "code",
   "execution_count": 478,
   "metadata": {},
   "outputs": [
    {
     "data": {
      "text/plain": [
       "(27844,)"
      ]
     },
     "execution_count": 478,
     "metadata": {},
     "output_type": "execute_result"
    }
   ],
   "source": [
    "df_col_organizations.shape"
   ]
  },
  {
   "cell_type": "code",
   "execution_count": 474,
   "metadata": {},
   "outputs": [],
   "source": [
    "df_col_organizations =  df_col_organizations.explode()"
   ]
  },
  {
   "cell_type": "code",
   "execution_count": 477,
   "metadata": {},
   "outputs": [],
   "source": [
    "df_col_organizations.drop_duplicates(inplace=True)"
   ]
  },
  {
   "cell_type": "code",
   "execution_count": 483,
   "metadata": {},
   "outputs": [
    {
     "data": {
      "text/html": [
       "<div>\n",
       "<style scoped>\n",
       "    .dataframe tbody tr th:only-of-type {\n",
       "        vertical-align: middle;\n",
       "    }\n",
       "\n",
       "    .dataframe tbody tr th {\n",
       "        vertical-align: top;\n",
       "    }\n",
       "\n",
       "    .dataframe thead th {\n",
       "        text-align: right;\n",
       "    }\n",
       "</style>\n",
       "<table border=\"1\" class=\"dataframe\">\n",
       "  <thead>\n",
       "    <tr style=\"text-align: right;\">\n",
       "      <th></th>\n",
       "      <th>organizations</th>\n",
       "      <th>classification</th>\n",
       "      <th>affiliations</th>\n",
       "      <th>auth-keywords</th>\n",
       "      <th>title</th>\n",
       "      <th>publish_name</th>\n",
       "      <th>subject-cluster</th>\n",
       "    </tr>\n",
       "  </thead>\n",
       "  <tbody>\n",
       "    <tr>\n",
       "      <th>count</th>\n",
       "      <td>103242</td>\n",
       "      <td>103242</td>\n",
       "      <td>103242</td>\n",
       "      <td>103242</td>\n",
       "      <td>103242</td>\n",
       "      <td>103242</td>\n",
       "      <td>103242</td>\n",
       "    </tr>\n",
       "    <tr>\n",
       "      <th>unique</th>\n",
       "      <td>13768</td>\n",
       "      <td>8</td>\n",
       "      <td>8591</td>\n",
       "      <td>16290</td>\n",
       "      <td>16421</td>\n",
       "      <td>4671</td>\n",
       "      <td>11</td>\n",
       "    </tr>\n",
       "    <tr>\n",
       "      <th>top</th>\n",
       "      <td>[]</td>\n",
       "      <td>all subject journal classification</td>\n",
       "      <td>['Chulalongkorn University']</td>\n",
       "      <td>['feast/famine feeding', 'glycerol', 'mixed cu...</td>\n",
       "      <td>the potential of biodiesel production from gra...</td>\n",
       "      <td>acm international conference proceeding series</td>\n",
       "      <td>Physics and Astronomy</td>\n",
       "    </tr>\n",
       "    <tr>\n",
       "      <th>freq</th>\n",
       "      <td>966</td>\n",
       "      <td>32135</td>\n",
       "      <td>22522</td>\n",
       "      <td>36</td>\n",
       "      <td>36</td>\n",
       "      <td>1578</td>\n",
       "      <td>24342</td>\n",
       "    </tr>\n",
       "  </tbody>\n",
       "</table>\n",
       "</div>"
      ],
      "text/plain": [
       "       organizations                      classification  \\\n",
       "count         103242                              103242   \n",
       "unique         13768                                   8   \n",
       "top               []  all subject journal classification   \n",
       "freq             966                               32135   \n",
       "\n",
       "                        affiliations  \\\n",
       "count                         103242   \n",
       "unique                          8591   \n",
       "top     ['Chulalongkorn University']   \n",
       "freq                           22522   \n",
       "\n",
       "                                            auth-keywords  \\\n",
       "count                                              103242   \n",
       "unique                                              16290   \n",
       "top     ['feast/famine feeding', 'glycerol', 'mixed cu...   \n",
       "freq                                                   36   \n",
       "\n",
       "                                                    title  \\\n",
       "count                                              103242   \n",
       "unique                                              16421   \n",
       "top     the potential of biodiesel production from gra...   \n",
       "freq                                                   36   \n",
       "\n",
       "                                          publish_name        subject-cluster  \n",
       "count                                           103242                 103242  \n",
       "unique                                            4671                     11  \n",
       "top     acm international conference proceeding series  Physics and Astronomy  \n",
       "freq                                              1578                  24342  "
      ]
     },
     "execution_count": 483,
     "metadata": {},
     "output_type": "execute_result"
    }
   ],
   "source": [
    "df_data_file_organization.describe()"
   ]
  },
  {
   "cell_type": "code",
   "execution_count": 485,
   "metadata": {},
   "outputs": [
    {
     "data": {
      "text/plain": [
       "organizations\n",
       "[]                                                                                                                                                                                                                                                                                                                                                                                                                                                                                                                         966\n",
       "[Department of Computer Engineering]                                                                                                                                                                                                                                                                                                                                                                                                                                                                                       918\n",
       "[Department of Computer Engineering, Faculty of Engineering]                                                                                                                                                                                                                                                                                                                                                                                                                                                               854\n",
       "[Department of Electrical Engineering]                                                                                                                                                                                                                                                                                                                                                                                                                                                                                     647\n",
       "[Faculty of Engineering, Department of Computer Engineering]                                                                                                                                                                                                                                                                                                                                                                                                                                                               364\n",
       "                                                                                                                                                                                                                                                                                                                                                                                                                                                                                                                          ... \n",
       "[Department of Electrical Engineering, Faculty of Engineering, Multimedia Data Analytics and Processing Research Unit, Department of Electrical Engineering, Faculty of Engineering]                                                                                                                                                                                                                                                                                                                                         2\n",
       "[Faculty of Dentistry, Department of Microbiology and Research Unit on Oral Microbiology and Immunology, Faculty of Dentistry, Department of Pediatric Dentistry, Faculty of Dentistry]                                                                                                                                                                                                                                                                                                                                      2\n",
       "[Health Sciences (International Program), College of Graduate Studies, School of Allied Health Sciences, Department of Food and Pharmaceutical Chemistry, Faculty of Pharmaceutical Sciences, School of Medicine, Research and Innovation Institute of Excellence, Department of Chemistry, Faculty of Science, Department of Chemistry and Center of Excellence for Innovation in Chemistry, Faculty of Science, Food Technology and Innovation Center of Excellence, Research and Innovation Institute of Excellence]      2\n",
       "[Chulalongkorn School of Integrated Innovation]                                                                                                                                                                                                                                                                                                                                                                                                                                                                              2\n",
       "[Division of Toxicology, Department of Medicine, Faculty of Medicine, Department of Psychiatry and Center of Excellence in Transgender Health, Faculty of Medicine, Division of Neurology, Department of Medicine, Faculty of Medicine]                                                                                                                                                                                                                                                                                      2\n",
       "Name: count, Length: 13768, dtype: int64"
      ]
     },
     "execution_count": 485,
     "metadata": {},
     "output_type": "execute_result"
    }
   ],
   "source": [
    "df_data_file_organization['organizations'].value_counts()"
   ]
  },
  {
   "cell_type": "code",
   "execution_count": 498,
   "metadata": {},
   "outputs": [],
   "source": [
    "df_data_file_organization = df_data_file_organization[df_data_file_organization['organizations'].apply(lambda x: x != [] and x is not None)]"
   ]
  },
  {
   "cell_type": "code",
   "execution_count": 507,
   "metadata": {},
   "outputs": [
    {
     "data": {
      "text/html": [
       "<div>\n",
       "<style scoped>\n",
       "    .dataframe tbody tr th:only-of-type {\n",
       "        vertical-align: middle;\n",
       "    }\n",
       "\n",
       "    .dataframe tbody tr th {\n",
       "        vertical-align: top;\n",
       "    }\n",
       "\n",
       "    .dataframe thead th {\n",
       "        text-align: right;\n",
       "    }\n",
       "</style>\n",
       "<table border=\"1\" class=\"dataframe\">\n",
       "  <thead>\n",
       "    <tr style=\"text-align: right;\">\n",
       "      <th></th>\n",
       "      <th>organizations</th>\n",
       "      <th>classification</th>\n",
       "      <th>affiliations</th>\n",
       "      <th>auth-keywords</th>\n",
       "      <th>title</th>\n",
       "      <th>publish_name</th>\n",
       "      <th>subject-cluster</th>\n",
       "    </tr>\n",
       "  </thead>\n",
       "  <tbody>\n",
       "    <tr>\n",
       "      <th>count</th>\n",
       "      <td>102276</td>\n",
       "      <td>102276</td>\n",
       "      <td>102276</td>\n",
       "      <td>102276</td>\n",
       "      <td>102276</td>\n",
       "      <td>102276</td>\n",
       "      <td>102276</td>\n",
       "    </tr>\n",
       "    <tr>\n",
       "      <th>unique</th>\n",
       "      <td>13767</td>\n",
       "      <td>8</td>\n",
       "      <td>8555</td>\n",
       "      <td>16051</td>\n",
       "      <td>16183</td>\n",
       "      <td>4588</td>\n",
       "      <td>11</td>\n",
       "    </tr>\n",
       "    <tr>\n",
       "      <th>top</th>\n",
       "      <td>['Department of Computer Engineering']</td>\n",
       "      <td>all subject journal classification</td>\n",
       "      <td>['Chulalongkorn University']</td>\n",
       "      <td>['Beyond Standard Model', 'Hadron-Hadron scatt...</td>\n",
       "      <td>polyhydroxyalkanoate production using two-stag...</td>\n",
       "      <td>acm international conference proceeding series</td>\n",
       "      <td>Physics and Astronomy</td>\n",
       "    </tr>\n",
       "    <tr>\n",
       "      <th>freq</th>\n",
       "      <td>918</td>\n",
       "      <td>31745</td>\n",
       "      <td>21910</td>\n",
       "      <td>36</td>\n",
       "      <td>36</td>\n",
       "      <td>1518</td>\n",
       "      <td>24133</td>\n",
       "    </tr>\n",
       "  </tbody>\n",
       "</table>\n",
       "</div>"
      ],
      "text/plain": [
       "                                 organizations  \\\n",
       "count                                   102276   \n",
       "unique                                   13767   \n",
       "top     ['Department of Computer Engineering']   \n",
       "freq                                       918   \n",
       "\n",
       "                            classification                  affiliations  \\\n",
       "count                               102276                        102276   \n",
       "unique                                   8                          8555   \n",
       "top     all subject journal classification  ['Chulalongkorn University']   \n",
       "freq                                 31745                         21910   \n",
       "\n",
       "                                            auth-keywords  \\\n",
       "count                                              102276   \n",
       "unique                                              16051   \n",
       "top     ['Beyond Standard Model', 'Hadron-Hadron scatt...   \n",
       "freq                                                   36   \n",
       "\n",
       "                                                    title  \\\n",
       "count                                              102276   \n",
       "unique                                              16183   \n",
       "top     polyhydroxyalkanoate production using two-stag...   \n",
       "freq                                                   36   \n",
       "\n",
       "                                          publish_name        subject-cluster  \n",
       "count                                           102276                 102276  \n",
       "unique                                            4588                     11  \n",
       "top     acm international conference proceeding series  Physics and Astronomy  \n",
       "freq                                              1518                  24133  "
      ]
     },
     "execution_count": 507,
     "metadata": {},
     "output_type": "execute_result"
    }
   ],
   "source": [
    "df_data_file_organization.describe()"
   ]
  },
  {
   "cell_type": "code",
   "execution_count": 506,
   "metadata": {},
   "outputs": [],
   "source": [
    "df_data_file_organization['organizations'] = df_data_file_organization['organizations'].apply(\n",
    "    lambda x: str(x) if isinstance(x, list) else str(x)\n",
    ")"
   ]
  },
  {
   "cell_type": "code",
   "execution_count": 508,
   "metadata": {},
   "outputs": [],
   "source": [
    "df_data_file_organization.drop_duplicates(inplace=True)"
   ]
  },
  {
   "cell_type": "code",
   "execution_count": 509,
   "metadata": {},
   "outputs": [],
   "source": [
    "df_data_file_organization.dropna(inplace=True)"
   ]
  },
  {
   "cell_type": "code",
   "execution_count": 510,
   "metadata": {},
   "outputs": [
    {
     "data": {
      "text/plain": [
       "(102276, 7)"
      ]
     },
     "execution_count": 510,
     "metadata": {},
     "output_type": "execute_result"
    }
   ],
   "source": [
    "df_data_file_organization.shape"
   ]
  },
  {
   "cell_type": "code",
   "execution_count": 511,
   "metadata": {},
   "outputs": [],
   "source": [
    "df_data_file_organization.to_csv('data_pandas/5_features_organization.csv', index=False, encoding='utf-8')"
   ]
  },
  {
   "cell_type": "code",
   "execution_count": 512,
   "metadata": {},
   "outputs": [],
   "source": [
    "df_data_file = df_data_file_organization"
   ]
  },
  {
   "cell_type": "markdown",
   "metadata": {},
   "source": [
    "## Author keyword"
   ]
  },
  {
   "cell_type": "code",
   "execution_count": 513,
   "metadata": {},
   "outputs": [],
   "source": [
    "df_data_file_author_key = pd.read_csv('data_pandas/5_features_organization.csv', encoding='utf-8')"
   ]
  },
  {
   "cell_type": "code",
   "execution_count": 514,
   "metadata": {},
   "outputs": [
    {
     "data": {
      "text/html": [
       "<div>\n",
       "<style scoped>\n",
       "    .dataframe tbody tr th:only-of-type {\n",
       "        vertical-align: middle;\n",
       "    }\n",
       "\n",
       "    .dataframe tbody tr th {\n",
       "        vertical-align: top;\n",
       "    }\n",
       "\n",
       "    .dataframe thead th {\n",
       "        text-align: right;\n",
       "    }\n",
       "</style>\n",
       "<table border=\"1\" class=\"dataframe\">\n",
       "  <thead>\n",
       "    <tr style=\"text-align: right;\">\n",
       "      <th></th>\n",
       "      <th>organizations</th>\n",
       "      <th>classification</th>\n",
       "      <th>affiliations</th>\n",
       "      <th>auth-keywords</th>\n",
       "      <th>title</th>\n",
       "      <th>publish_name</th>\n",
       "      <th>subject-cluster</th>\n",
       "    </tr>\n",
       "  </thead>\n",
       "  <tbody>\n",
       "    <tr>\n",
       "      <th>count</th>\n",
       "      <td>102276</td>\n",
       "      <td>102276</td>\n",
       "      <td>102276</td>\n",
       "      <td>102276</td>\n",
       "      <td>102276</td>\n",
       "      <td>102276</td>\n",
       "      <td>102276</td>\n",
       "    </tr>\n",
       "    <tr>\n",
       "      <th>unique</th>\n",
       "      <td>13767</td>\n",
       "      <td>8</td>\n",
       "      <td>8555</td>\n",
       "      <td>16051</td>\n",
       "      <td>16183</td>\n",
       "      <td>4588</td>\n",
       "      <td>11</td>\n",
       "    </tr>\n",
       "    <tr>\n",
       "      <th>top</th>\n",
       "      <td>['Department of Computer Engineering']</td>\n",
       "      <td>all subject journal classification</td>\n",
       "      <td>['Chulalongkorn University']</td>\n",
       "      <td>['Beyond Standard Model', 'Hadron-Hadron scatt...</td>\n",
       "      <td>polyhydroxyalkanoate production using two-stag...</td>\n",
       "      <td>acm international conference proceeding series</td>\n",
       "      <td>Physics and Astronomy</td>\n",
       "    </tr>\n",
       "    <tr>\n",
       "      <th>freq</th>\n",
       "      <td>918</td>\n",
       "      <td>31745</td>\n",
       "      <td>21910</td>\n",
       "      <td>36</td>\n",
       "      <td>36</td>\n",
       "      <td>1518</td>\n",
       "      <td>24133</td>\n",
       "    </tr>\n",
       "  </tbody>\n",
       "</table>\n",
       "</div>"
      ],
      "text/plain": [
       "                                 organizations  \\\n",
       "count                                   102276   \n",
       "unique                                   13767   \n",
       "top     ['Department of Computer Engineering']   \n",
       "freq                                       918   \n",
       "\n",
       "                            classification                  affiliations  \\\n",
       "count                               102276                        102276   \n",
       "unique                                   8                          8555   \n",
       "top     all subject journal classification  ['Chulalongkorn University']   \n",
       "freq                                 31745                         21910   \n",
       "\n",
       "                                            auth-keywords  \\\n",
       "count                                              102276   \n",
       "unique                                              16051   \n",
       "top     ['Beyond Standard Model', 'Hadron-Hadron scatt...   \n",
       "freq                                                   36   \n",
       "\n",
       "                                                    title  \\\n",
       "count                                              102276   \n",
       "unique                                              16183   \n",
       "top     polyhydroxyalkanoate production using two-stag...   \n",
       "freq                                                   36   \n",
       "\n",
       "                                          publish_name        subject-cluster  \n",
       "count                                           102276                 102276  \n",
       "unique                                            4588                     11  \n",
       "top     acm international conference proceeding series  Physics and Astronomy  \n",
       "freq                                              1518                  24133  "
      ]
     },
     "execution_count": 514,
     "metadata": {},
     "output_type": "execute_result"
    }
   ],
   "source": [
    "df_data_file_author_key.describe()"
   ]
  },
  {
   "cell_type": "code",
   "execution_count": 517,
   "metadata": {},
   "outputs": [],
   "source": [
    "df_data_file_author_key['auth-keywords'] = df_data_file_author_key['auth-keywords'].apply(ast.literal_eval)"
   ]
  },
  {
   "cell_type": "code",
   "execution_count": 521,
   "metadata": {},
   "outputs": [],
   "source": [
    "df_data_file_author_key = df_data_file_author_key.reset_index(drop=True)\n",
    "df_data_file_author_key = df_data_file_author_key.explode('auth-keywords')"
   ]
  },
  {
   "cell_type": "code",
   "execution_count": 523,
   "metadata": {},
   "outputs": [
    {
     "data": {
      "text/html": [
       "<div>\n",
       "<style scoped>\n",
       "    .dataframe tbody tr th:only-of-type {\n",
       "        vertical-align: middle;\n",
       "    }\n",
       "\n",
       "    .dataframe tbody tr th {\n",
       "        vertical-align: top;\n",
       "    }\n",
       "\n",
       "    .dataframe thead th {\n",
       "        text-align: right;\n",
       "    }\n",
       "</style>\n",
       "<table border=\"1\" class=\"dataframe\">\n",
       "  <thead>\n",
       "    <tr style=\"text-align: right;\">\n",
       "      <th></th>\n",
       "      <th>organizations</th>\n",
       "      <th>classification</th>\n",
       "      <th>affiliations</th>\n",
       "      <th>auth-keywords</th>\n",
       "      <th>title</th>\n",
       "      <th>publish_name</th>\n",
       "      <th>subject-cluster</th>\n",
       "    </tr>\n",
       "  </thead>\n",
       "  <tbody>\n",
       "    <tr>\n",
       "      <th>0</th>\n",
       "      <td>['Center of Excellence in Catalysis and Cataly...</td>\n",
       "      <td>complex classification</td>\n",
       "      <td>['Chulalongkorn University']</td>\n",
       "      <td>Circulating fluidized bed</td>\n",
       "      <td>parametric study of hydrogen production via so...</td>\n",
       "      <td>chemical engineering science</td>\n",
       "      <td>Chemistry</td>\n",
       "    </tr>\n",
       "    <tr>\n",
       "      <th>0</th>\n",
       "      <td>['Center of Excellence in Catalysis and Cataly...</td>\n",
       "      <td>complex classification</td>\n",
       "      <td>['Chulalongkorn University']</td>\n",
       "      <td>Computational fluid dynamics</td>\n",
       "      <td>parametric study of hydrogen production via so...</td>\n",
       "      <td>chemical engineering science</td>\n",
       "      <td>Chemistry</td>\n",
       "    </tr>\n",
       "    <tr>\n",
       "      <th>0</th>\n",
       "      <td>['Center of Excellence in Catalysis and Cataly...</td>\n",
       "      <td>complex classification</td>\n",
       "      <td>['Chulalongkorn University']</td>\n",
       "      <td>Multiphase flow models</td>\n",
       "      <td>parametric study of hydrogen production via so...</td>\n",
       "      <td>chemical engineering science</td>\n",
       "      <td>Chemistry</td>\n",
       "    </tr>\n",
       "    <tr>\n",
       "      <th>0</th>\n",
       "      <td>['Center of Excellence in Catalysis and Cataly...</td>\n",
       "      <td>complex classification</td>\n",
       "      <td>['Chulalongkorn University']</td>\n",
       "      <td>Riser</td>\n",
       "      <td>parametric study of hydrogen production via so...</td>\n",
       "      <td>chemical engineering science</td>\n",
       "      <td>Chemistry</td>\n",
       "    </tr>\n",
       "    <tr>\n",
       "      <th>0</th>\n",
       "      <td>['Center of Excellence in Catalysis and Cataly...</td>\n",
       "      <td>complex classification</td>\n",
       "      <td>['Chulalongkorn University']</td>\n",
       "      <td>Sorption enhanced steam methane reforming</td>\n",
       "      <td>parametric study of hydrogen production via so...</td>\n",
       "      <td>chemical engineering science</td>\n",
       "      <td>Chemistry</td>\n",
       "    </tr>\n",
       "  </tbody>\n",
       "</table>\n",
       "</div>"
      ],
      "text/plain": [
       "                                       organizations          classification  \\\n",
       "0  ['Center of Excellence in Catalysis and Cataly...  complex classification   \n",
       "0  ['Center of Excellence in Catalysis and Cataly...  complex classification   \n",
       "0  ['Center of Excellence in Catalysis and Cataly...  complex classification   \n",
       "0  ['Center of Excellence in Catalysis and Cataly...  complex classification   \n",
       "0  ['Center of Excellence in Catalysis and Cataly...  complex classification   \n",
       "\n",
       "                   affiliations                              auth-keywords  \\\n",
       "0  ['Chulalongkorn University']                  Circulating fluidized bed   \n",
       "0  ['Chulalongkorn University']               Computational fluid dynamics   \n",
       "0  ['Chulalongkorn University']                     Multiphase flow models   \n",
       "0  ['Chulalongkorn University']                                      Riser   \n",
       "0  ['Chulalongkorn University']  Sorption enhanced steam methane reforming   \n",
       "\n",
       "                                               title  \\\n",
       "0  parametric study of hydrogen production via so...   \n",
       "0  parametric study of hydrogen production via so...   \n",
       "0  parametric study of hydrogen production via so...   \n",
       "0  parametric study of hydrogen production via so...   \n",
       "0  parametric study of hydrogen production via so...   \n",
       "\n",
       "                   publish_name subject-cluster  \n",
       "0  chemical engineering science       Chemistry  \n",
       "0  chemical engineering science       Chemistry  \n",
       "0  chemical engineering science       Chemistry  \n",
       "0  chemical engineering science       Chemistry  \n",
       "0  chemical engineering science       Chemistry  "
      ]
     },
     "execution_count": 523,
     "metadata": {},
     "output_type": "execute_result"
    }
   ],
   "source": [
    "df_data_file_author_key.head(5)"
   ]
  },
  {
   "cell_type": "code",
   "execution_count": 522,
   "metadata": {},
   "outputs": [
    {
     "data": {
      "text/plain": [
       "(519480, 7)"
      ]
     },
     "execution_count": 522,
     "metadata": {},
     "output_type": "execute_result"
    }
   ],
   "source": [
    "df_data_file_author_key.shape"
   ]
  },
  {
   "cell_type": "code",
   "execution_count": 538,
   "metadata": {},
   "outputs": [],
   "source": [
    "# Clean subject values\n",
    "df_data_file_subject['auth-keywords'] = (\n",
    "    df_data_file_subject['auth-keywords']\n",
    "    .str.replace(r'[\\[\\]\\\"\\']', '', regex=True)  # Remove unwanted characters\n",
    "    .str.strip()                                # Trim whitespace\n",
    "    .str.lower()                                # Convert to lowercase\n",
    ")\n",
    "\n",
    "def is_valid_utf8(text):\n",
    "    try:\n",
    "        text.encode('utf-8')\n",
    "        return True\n",
    "    except UnicodeEncodeError:\n",
    "        return False\n",
    "\n",
    "# Filter rows with only valid UTF-8 characters\n",
    "df_data_file_subject['auth-keywords'] = df_data_file_subject['auth-keywords'].apply(lambda x: x if is_valid_utf8(x) else np.nan)\n"
   ]
  },
  {
   "cell_type": "code",
   "execution_count": 526,
   "metadata": {},
   "outputs": [
    {
     "data": {
      "text/plain": [
       "(519480, 7)"
      ]
     },
     "execution_count": 526,
     "metadata": {},
     "output_type": "execute_result"
    }
   ],
   "source": [
    "df_data_file_author_key.shape"
   ]
  },
  {
   "cell_type": "code",
   "execution_count": 539,
   "metadata": {},
   "outputs": [
    {
     "data": {
      "text/html": [
       "<div>\n",
       "<style scoped>\n",
       "    .dataframe tbody tr th:only-of-type {\n",
       "        vertical-align: middle;\n",
       "    }\n",
       "\n",
       "    .dataframe tbody tr th {\n",
       "        vertical-align: top;\n",
       "    }\n",
       "\n",
       "    .dataframe thead th {\n",
       "        text-align: right;\n",
       "    }\n",
       "</style>\n",
       "<table border=\"1\" class=\"dataframe\">\n",
       "  <thead>\n",
       "    <tr style=\"text-align: right;\">\n",
       "      <th></th>\n",
       "      <th>organizations</th>\n",
       "      <th>classification</th>\n",
       "      <th>affiliations</th>\n",
       "      <th>auth-keywords</th>\n",
       "      <th>publish_name</th>\n",
       "      <th>subject-cluster</th>\n",
       "    </tr>\n",
       "  </thead>\n",
       "  <tbody>\n",
       "    <tr>\n",
       "      <th>0</th>\n",
       "      <td>['Center of Excellence in Catalysis and Cataly...</td>\n",
       "      <td>complex classification</td>\n",
       "      <td>['Chulalongkorn University']</td>\n",
       "      <td>Circulating fluidized bed</td>\n",
       "      <td>chemical engineering science</td>\n",
       "      <td>Chemistry</td>\n",
       "    </tr>\n",
       "    <tr>\n",
       "      <th>0</th>\n",
       "      <td>['Center of Excellence in Catalysis and Cataly...</td>\n",
       "      <td>complex classification</td>\n",
       "      <td>['Chulalongkorn University']</td>\n",
       "      <td>Computational fluid dynamics</td>\n",
       "      <td>chemical engineering science</td>\n",
       "      <td>Chemistry</td>\n",
       "    </tr>\n",
       "    <tr>\n",
       "      <th>0</th>\n",
       "      <td>['Center of Excellence in Catalysis and Cataly...</td>\n",
       "      <td>complex classification</td>\n",
       "      <td>['Chulalongkorn University']</td>\n",
       "      <td>Multiphase flow models</td>\n",
       "      <td>chemical engineering science</td>\n",
       "      <td>Chemistry</td>\n",
       "    </tr>\n",
       "    <tr>\n",
       "      <th>0</th>\n",
       "      <td>['Center of Excellence in Catalysis and Cataly...</td>\n",
       "      <td>complex classification</td>\n",
       "      <td>['Chulalongkorn University']</td>\n",
       "      <td>Riser</td>\n",
       "      <td>chemical engineering science</td>\n",
       "      <td>Chemistry</td>\n",
       "    </tr>\n",
       "    <tr>\n",
       "      <th>0</th>\n",
       "      <td>['Center of Excellence in Catalysis and Cataly...</td>\n",
       "      <td>complex classification</td>\n",
       "      <td>['Chulalongkorn University']</td>\n",
       "      <td>Sorption enhanced steam methane reforming</td>\n",
       "      <td>chemical engineering science</td>\n",
       "      <td>Chemistry</td>\n",
       "    </tr>\n",
       "  </tbody>\n",
       "</table>\n",
       "</div>"
      ],
      "text/plain": [
       "                                       organizations          classification  \\\n",
       "0  ['Center of Excellence in Catalysis and Cataly...  complex classification   \n",
       "0  ['Center of Excellence in Catalysis and Cataly...  complex classification   \n",
       "0  ['Center of Excellence in Catalysis and Cataly...  complex classification   \n",
       "0  ['Center of Excellence in Catalysis and Cataly...  complex classification   \n",
       "0  ['Center of Excellence in Catalysis and Cataly...  complex classification   \n",
       "\n",
       "                   affiliations                              auth-keywords  \\\n",
       "0  ['Chulalongkorn University']                  Circulating fluidized bed   \n",
       "0  ['Chulalongkorn University']               Computational fluid dynamics   \n",
       "0  ['Chulalongkorn University']                     Multiphase flow models   \n",
       "0  ['Chulalongkorn University']                                      Riser   \n",
       "0  ['Chulalongkorn University']  Sorption enhanced steam methane reforming   \n",
       "\n",
       "                   publish_name subject-cluster  \n",
       "0  chemical engineering science       Chemistry  \n",
       "0  chemical engineering science       Chemistry  \n",
       "0  chemical engineering science       Chemistry  \n",
       "0  chemical engineering science       Chemistry  \n",
       "0  chemical engineering science       Chemistry  "
      ]
     },
     "execution_count": 539,
     "metadata": {},
     "output_type": "execute_result"
    }
   ],
   "source": [
    "df_data_file_author_key.head(5)"
   ]
  },
  {
   "cell_type": "code",
   "execution_count": 534,
   "metadata": {},
   "outputs": [],
   "source": [
    "df_data_file_author_key.dropna(inplace=True)"
   ]
  },
  {
   "cell_type": "code",
   "execution_count": 535,
   "metadata": {},
   "outputs": [],
   "source": [
    "df_data_file_author_key.drop_duplicates(inplace=True)"
   ]
  },
  {
   "cell_type": "code",
   "execution_count": 536,
   "metadata": {},
   "outputs": [
    {
     "data": {
      "text/plain": [
       "(516673, 6)"
      ]
     },
     "execution_count": 536,
     "metadata": {},
     "output_type": "execute_result"
    }
   ],
   "source": [
    "df_data_file_author_key.shape"
   ]
  },
  {
   "cell_type": "code",
   "execution_count": 532,
   "metadata": {},
   "outputs": [],
   "source": [
    "df_data_file_author_key.drop(columns=['title'], inplace=True)"
   ]
  },
  {
   "cell_type": "code",
   "execution_count": 541,
   "metadata": {},
   "outputs": [],
   "source": [
    "df_data_file_author_key.to_csv('data_pandas/6_features_author_keywords.csv', index=False, encoding='utf-8')"
   ]
  },
  {
   "cell_type": "markdown",
   "metadata": {},
   "source": [
    "## outlier auth keyword"
   ]
  },
  {
   "cell_type": "code",
   "execution_count": 548,
   "metadata": {},
   "outputs": [],
   "source": [
    "df_data_file_cutoff = pd.read_csv('data_pandas/6_features_author_keywords.csv', encoding='utf-8')"
   ]
  },
  {
   "cell_type": "code",
   "execution_count": 549,
   "metadata": {},
   "outputs": [
    {
     "name": "stderr",
     "output_type": "stream",
     "text": [
      "C:\\Users\\Yiwahpsp\\AppData\\Local\\Temp\\ipykernel_24164\\17225381.py:4: FutureWarning: DataFrame.applymap has been deprecated. Use DataFrame.map instead.\n",
      "  df_transformed = df_data_file_cutoff.applymap(lambda x: -np.log(x) if np.issubdtype(type(x), np.number) and x > 0 else x)\n"
     ]
    },
    {
     "name": "stdout",
     "output_type": "stream",
     "text": [
      "                                       organizations          classification  \\\n",
      "0  ['Center of Excellence in Catalysis and Cataly...  complex classification   \n",
      "1  ['Center of Excellence in Catalysis and Cataly...  complex classification   \n",
      "2  ['Center of Excellence in Catalysis and Cataly...  complex classification   \n",
      "3  ['Center of Excellence in Catalysis and Cataly...  complex classification   \n",
      "4  ['Center of Excellence in Catalysis and Cataly...  complex classification   \n",
      "\n",
      "                   affiliations                              auth-keywords  \\\n",
      "0  ['Chulalongkorn University']                  Circulating fluidized bed   \n",
      "1  ['Chulalongkorn University']               Computational fluid dynamics   \n",
      "2  ['Chulalongkorn University']                     Multiphase flow models   \n",
      "3  ['Chulalongkorn University']                                      Riser   \n",
      "4  ['Chulalongkorn University']  Sorption enhanced steam methane reforming   \n",
      "\n",
      "                   publish_name subject-cluster  \n",
      "0  chemical engineering science       Chemistry  \n",
      "1  chemical engineering science       Chemistry  \n",
      "2  chemical engineering science       Chemistry  \n",
      "3  chemical engineering science       Chemistry  \n",
      "4  chemical engineering science       Chemistry  \n"
     ]
    }
   ],
   "source": [
    "import numpy as np\n",
    "\n",
    "# Apply -log transformation to all columns\n",
    "df_transformed = df_data_file_cutoff.applymap(lambda x: -np.log(x) if np.issubdtype(type(x), np.number) and x > 0 else x)\n",
    "\n",
    "# Display the transformed DataFrame\n",
    "print(df_transformed.head())"
   ]
  },
  {
   "cell_type": "code",
   "execution_count": 551,
   "metadata": {},
   "outputs": [],
   "source": [
    "df_transformed.dropna(inplace=True)"
   ]
  },
  {
   "cell_type": "code",
   "execution_count": 552,
   "metadata": {},
   "outputs": [],
   "source": [
    "df_transformed.drop_duplicates(inplace=True)"
   ]
  },
  {
   "cell_type": "code",
   "execution_count": 553,
   "metadata": {},
   "outputs": [
    {
     "data": {
      "text/html": [
       "<div>\n",
       "<style scoped>\n",
       "    .dataframe tbody tr th:only-of-type {\n",
       "        vertical-align: middle;\n",
       "    }\n",
       "\n",
       "    .dataframe tbody tr th {\n",
       "        vertical-align: top;\n",
       "    }\n",
       "\n",
       "    .dataframe thead th {\n",
       "        text-align: right;\n",
       "    }\n",
       "</style>\n",
       "<table border=\"1\" class=\"dataframe\">\n",
       "  <thead>\n",
       "    <tr style=\"text-align: right;\">\n",
       "      <th></th>\n",
       "      <th>organizations</th>\n",
       "      <th>classification</th>\n",
       "      <th>affiliations</th>\n",
       "      <th>auth-keywords</th>\n",
       "      <th>publish_name</th>\n",
       "      <th>subject-cluster</th>\n",
       "    </tr>\n",
       "  </thead>\n",
       "  <tbody>\n",
       "    <tr>\n",
       "      <th>count</th>\n",
       "      <td>516669</td>\n",
       "      <td>516669</td>\n",
       "      <td>516669</td>\n",
       "      <td>516669</td>\n",
       "      <td>516669</td>\n",
       "      <td>516669</td>\n",
       "    </tr>\n",
       "    <tr>\n",
       "      <th>unique</th>\n",
       "      <td>13767</td>\n",
       "      <td>8</td>\n",
       "      <td>8555</td>\n",
       "      <td>50955</td>\n",
       "      <td>4588</td>\n",
       "      <td>11</td>\n",
       "    </tr>\n",
       "    <tr>\n",
       "      <th>top</th>\n",
       "      <td>['Department of Computer Engineering']</td>\n",
       "      <td>all subject journal classification</td>\n",
       "      <td>['Chulalongkorn University']</td>\n",
       "      <td>Thailand</td>\n",
       "      <td>international journal of molecular sciences</td>\n",
       "      <td>Physics and Astronomy</td>\n",
       "    </tr>\n",
       "    <tr>\n",
       "      <th>freq</th>\n",
       "      <td>4353</td>\n",
       "      <td>160099</td>\n",
       "      <td>106170</td>\n",
       "      <td>3542</td>\n",
       "      <td>7785</td>\n",
       "      <td>120436</td>\n",
       "    </tr>\n",
       "  </tbody>\n",
       "</table>\n",
       "</div>"
      ],
      "text/plain": [
       "                                 organizations  \\\n",
       "count                                   516669   \n",
       "unique                                   13767   \n",
       "top     ['Department of Computer Engineering']   \n",
       "freq                                      4353   \n",
       "\n",
       "                            classification                  affiliations  \\\n",
       "count                               516669                        516669   \n",
       "unique                                   8                          8555   \n",
       "top     all subject journal classification  ['Chulalongkorn University']   \n",
       "freq                                160099                        106170   \n",
       "\n",
       "       auth-keywords                                 publish_name  \\\n",
       "count         516669                                       516669   \n",
       "unique         50955                                         4588   \n",
       "top         Thailand  international journal of molecular sciences   \n",
       "freq            3542                                         7785   \n",
       "\n",
       "              subject-cluster  \n",
       "count                  516669  \n",
       "unique                     11  \n",
       "top     Physics and Astronomy  \n",
       "freq                   120436  "
      ]
     },
     "execution_count": 553,
     "metadata": {},
     "output_type": "execute_result"
    }
   ],
   "source": [
    "df_transformed.describe()"
   ]
  },
  {
   "cell_type": "code",
   "execution_count": 555,
   "metadata": {},
   "outputs": [],
   "source": [
    "df_data_file_cutoff = df_transformed"
   ]
  },
  {
   "cell_type": "code",
   "execution_count": 556,
   "metadata": {},
   "outputs": [
    {
     "data": {
      "text/plain": [
       "(443017, 6)"
      ]
     },
     "execution_count": 556,
     "metadata": {},
     "output_type": "execute_result"
    }
   ],
   "source": [
    "# Calculate the 1st and 99th percentiles\n",
    "lower_percentile = df_data_file_cutoff['auth-keywords'].value_counts().quantile(0.01)\n",
    "upper_percentile = df_data_file_cutoff['auth-keywords'].value_counts().quantile(0.99)\n",
    "\n",
    "# Filter the DataFrame to keep only the rows with 'auth-keywords' within the desired range\n",
    "df_data_file_cutoff = df_data_file_cutoff[\n",
    "  df_data_file_cutoff['auth-keywords'].map(df_data_file_cutoff['auth-keywords'].value_counts()).between(lower_percentile, upper_percentile)\n",
    "]\n",
    "\n",
    "# Display the shape of the new DataFrame\n",
    "df_data_file_cutoff.shape"
   ]
  },
  {
   "cell_type": "code",
   "execution_count": 557,
   "metadata": {},
   "outputs": [
    {
     "data": {
      "text/plain": [
       "(281359, 6)"
      ]
     },
     "execution_count": 557,
     "metadata": {},
     "output_type": "execute_result"
    }
   ],
   "source": [
    "# Calculate the 1st and 99th percentiles\n",
    "lower_percentile = df_data_file_cutoff['affiliations'].value_counts().quantile(0.01)\n",
    "upper_percentile = df_data_file_cutoff['affiliations'].value_counts().quantile(0.99)\n",
    "\n",
    "# Filter the DataFrame to keep only the rows with 'auth-keywords' within the desired range\n",
    "df_data_file_cutoff = df_data_file_cutoff[\n",
    "  df_data_file_cutoff['affiliations'].map(df_data_file_cutoff['affiliations'].value_counts()).between(lower_percentile, upper_percentile)\n",
    "]\n",
    "\n",
    "# Display the shape of the new DataFrame\n",
    "df_data_file_cutoff.shape"
   ]
  },
  {
   "cell_type": "code",
   "execution_count": 558,
   "metadata": {},
   "outputs": [
    {
     "data": {
      "text/plain": [
       "(226080, 6)"
      ]
     },
     "execution_count": 558,
     "metadata": {},
     "output_type": "execute_result"
    }
   ],
   "source": [
    "# Calculate the 1st and 99th percentiles\n",
    "lower_percentile = df_data_file_cutoff['publish_name'].value_counts().quantile(0.01)\n",
    "upper_percentile = df_data_file_cutoff['publish_name'].value_counts().quantile(0.99)\n",
    "\n",
    "# Filter the DataFrame to keep only the rows with 'auth-keywords' within the desired range\n",
    "df_data_file_cutoff = df_data_file_cutoff[\n",
    "  df_data_file_cutoff['publish_name'].map(df_data_file_cutoff['publish_name'].value_counts()).between(lower_percentile, upper_percentile)\n",
    "]\n",
    "\n",
    "# Display the shape of the new DataFrame\n",
    "df_data_file_cutoff.shape"
   ]
  },
  {
   "cell_type": "code",
   "execution_count": 559,
   "metadata": {},
   "outputs": [
    {
     "data": {
      "text/plain": [
       "(215953, 6)"
      ]
     },
     "execution_count": 559,
     "metadata": {},
     "output_type": "execute_result"
    }
   ],
   "source": [
    "# Calculate the 1st and 99th percentiles\n",
    "lower_percentile = df_data_file_cutoff['organizations'].value_counts().quantile(0.01)\n",
    "upper_percentile = df_data_file_cutoff['organizations'].value_counts().quantile(0.99)\n",
    "\n",
    "# Filter the DataFrame to keep only the rows with 'auth-keywords' within the desired range\n",
    "df_data_file_cutoff = df_data_file_cutoff[\n",
    "  df_data_file_cutoff['organizations'].map(df_data_file_cutoff['organizations'].value_counts()).between(lower_percentile, upper_percentile)\n",
    "]\n",
    "\n",
    "# Display the shape of the new DataFrame\n",
    "df_data_file_cutoff.shape"
   ]
  },
  {
   "cell_type": "code",
   "execution_count": 560,
   "metadata": {},
   "outputs": [],
   "source": [
    "df_data_file_cutoff_temp = df_data_file_cutoff"
   ]
  },
  {
   "cell_type": "code",
   "execution_count": 561,
   "metadata": {},
   "outputs": [
    {
     "data": {
      "text/plain": [
       "(214663, 6)"
      ]
     },
     "execution_count": 561,
     "metadata": {},
     "output_type": "execute_result"
    }
   ],
   "source": [
    "# Calculate the 1st and 99th percentiles\n",
    "lower_percentile = df_data_file_cutoff['classification'].value_counts().quantile(0.01)\n",
    "upper_percentile = df_data_file_cutoff['classification'].value_counts().quantile(0.99)\n",
    "\n",
    "# Filter the DataFrame to keep only the rows with 'auth-keywords' within the desired range\n",
    "df_data_file_cutoff = df_data_file_cutoff[\n",
    "  df_data_file_cutoff['classification'].map(df_data_file_cutoff['classification'].value_counts()).between(lower_percentile, upper_percentile)\n",
    "]\n",
    "\n",
    "# Display the shape of the new DataFrame\n",
    "df_data_file_cutoff.shape"
   ]
  },
  {
   "cell_type": "code",
   "execution_count": 563,
   "metadata": {},
   "outputs": [
    {
     "name": "stderr",
     "output_type": "stream",
     "text": [
      "C:\\Users\\Yiwahpsp\\AppData\\Local\\Temp\\ipykernel_24164\\285248224.py:1: SettingWithCopyWarning: \n",
      "A value is trying to be set on a copy of a slice from a DataFrame\n",
      "\n",
      "See the caveats in the documentation: https://pandas.pydata.org/pandas-docs/stable/user_guide/indexing.html#returning-a-view-versus-a-copy\n",
      "  df_data_file_cutoff.dropna(inplace=True)\n"
     ]
    }
   ],
   "source": [
    "df_data_file_cutoff.dropna(inplace=True)"
   ]
  },
  {
   "cell_type": "code",
   "execution_count": 564,
   "metadata": {},
   "outputs": [
    {
     "name": "stderr",
     "output_type": "stream",
     "text": [
      "C:\\Users\\Yiwahpsp\\AppData\\Local\\Temp\\ipykernel_24164\\232068504.py:1: SettingWithCopyWarning: \n",
      "A value is trying to be set on a copy of a slice from a DataFrame\n",
      "\n",
      "See the caveats in the documentation: https://pandas.pydata.org/pandas-docs/stable/user_guide/indexing.html#returning-a-view-versus-a-copy\n",
      "  df_data_file_cutoff.drop_duplicates(inplace=True)\n"
     ]
    }
   ],
   "source": [
    "df_data_file_cutoff.drop_duplicates(inplace=True)"
   ]
  },
  {
   "cell_type": "code",
   "execution_count": 565,
   "metadata": {},
   "outputs": [
    {
     "data": {
      "text/html": [
       "<div>\n",
       "<style scoped>\n",
       "    .dataframe tbody tr th:only-of-type {\n",
       "        vertical-align: middle;\n",
       "    }\n",
       "\n",
       "    .dataframe tbody tr th {\n",
       "        vertical-align: top;\n",
       "    }\n",
       "\n",
       "    .dataframe thead th {\n",
       "        text-align: right;\n",
       "    }\n",
       "</style>\n",
       "<table border=\"1\" class=\"dataframe\">\n",
       "  <thead>\n",
       "    <tr style=\"text-align: right;\">\n",
       "      <th></th>\n",
       "      <th>organizations</th>\n",
       "      <th>classification</th>\n",
       "      <th>affiliations</th>\n",
       "      <th>auth-keywords</th>\n",
       "      <th>publish_name</th>\n",
       "      <th>subject-cluster</th>\n",
       "    </tr>\n",
       "  </thead>\n",
       "  <tbody>\n",
       "    <tr>\n",
       "      <th>count</th>\n",
       "      <td>214663</td>\n",
       "      <td>214663</td>\n",
       "      <td>214663</td>\n",
       "      <td>214663</td>\n",
       "      <td>214663</td>\n",
       "      <td>214663</td>\n",
       "    </tr>\n",
       "    <tr>\n",
       "      <th>unique</th>\n",
       "      <td>8632</td>\n",
       "      <td>7</td>\n",
       "      <td>7464</td>\n",
       "      <td>29898</td>\n",
       "      <td>3384</td>\n",
       "      <td>11</td>\n",
       "    </tr>\n",
       "    <tr>\n",
       "      <th>top</th>\n",
       "      <td>['Department of Anatomic Pathology', 'Departme...</td>\n",
       "      <td>all subject journal classification</td>\n",
       "      <td>['Kasetsart University, Kamphaeng Saen Campus'...</td>\n",
       "      <td>atrial fibrillation</td>\n",
       "      <td>aids</td>\n",
       "      <td>Physics and Astronomy</td>\n",
       "    </tr>\n",
       "    <tr>\n",
       "      <th>freq</th>\n",
       "      <td>100</td>\n",
       "      <td>70726</td>\n",
       "      <td>254</td>\n",
       "      <td>72</td>\n",
       "      <td>747</td>\n",
       "      <td>51973</td>\n",
       "    </tr>\n",
       "  </tbody>\n",
       "</table>\n",
       "</div>"
      ],
      "text/plain": [
       "                                            organizations  \\\n",
       "count                                              214663   \n",
       "unique                                               8632   \n",
       "top     ['Department of Anatomic Pathology', 'Departme...   \n",
       "freq                                                  100   \n",
       "\n",
       "                            classification  \\\n",
       "count                               214663   \n",
       "unique                                   7   \n",
       "top     all subject journal classification   \n",
       "freq                                 70726   \n",
       "\n",
       "                                             affiliations  \\\n",
       "count                                              214663   \n",
       "unique                                               7464   \n",
       "top     ['Kasetsart University, Kamphaeng Saen Campus'...   \n",
       "freq                                                  254   \n",
       "\n",
       "              auth-keywords publish_name        subject-cluster  \n",
       "count                214663       214663                 214663  \n",
       "unique                29898         3384                     11  \n",
       "top     atrial fibrillation         aids  Physics and Astronomy  \n",
       "freq                     72          747                  51973  "
      ]
     },
     "execution_count": 565,
     "metadata": {},
     "output_type": "execute_result"
    }
   ],
   "source": [
    "df_data_file_cutoff.describe()"
   ]
  },
  {
   "cell_type": "code",
   "execution_count": 566,
   "metadata": {},
   "outputs": [],
   "source": [
    "df_data_file_cutoff.to_csv('data_pandas/7_classification_cutoff.csv', index=False, encoding='utf-8')"
   ]
  },
  {
   "cell_type": "code",
   "execution_count": 567,
   "metadata": {},
   "outputs": [
    {
     "data": {
      "text/html": [
       "<div>\n",
       "<style scoped>\n",
       "    .dataframe tbody tr th:only-of-type {\n",
       "        vertical-align: middle;\n",
       "    }\n",
       "\n",
       "    .dataframe tbody tr th {\n",
       "        vertical-align: top;\n",
       "    }\n",
       "\n",
       "    .dataframe thead th {\n",
       "        text-align: right;\n",
       "    }\n",
       "</style>\n",
       "<table border=\"1\" class=\"dataframe\">\n",
       "  <thead>\n",
       "    <tr style=\"text-align: right;\">\n",
       "      <th></th>\n",
       "      <th>organizations</th>\n",
       "      <th>classification</th>\n",
       "      <th>affiliations</th>\n",
       "      <th>auth-keywords</th>\n",
       "      <th>publish_name</th>\n",
       "      <th>subject-cluster</th>\n",
       "    </tr>\n",
       "  </thead>\n",
       "  <tbody>\n",
       "    <tr>\n",
       "      <th>51</th>\n",
       "      <td>['Department of Chemistry', 'Faculty of Scienc...</td>\n",
       "      <td>complex classification</td>\n",
       "      <td>['Hirosaki University', 'Chulalongkorn Univers...</td>\n",
       "      <td>Fluoroalkylsilane</td>\n",
       "      <td>applied surface science</td>\n",
       "      <td>Chemistry</td>\n",
       "    </tr>\n",
       "    <tr>\n",
       "      <th>53</th>\n",
       "      <td>['Department of Chemistry', 'Faculty of Scienc...</td>\n",
       "      <td>complex classification</td>\n",
       "      <td>['Hirosaki University', 'Chulalongkorn Univers...</td>\n",
       "      <td>Oil/water separation superhydrophobic/superole...</td>\n",
       "      <td>applied surface science</td>\n",
       "      <td>Chemistry</td>\n",
       "    </tr>\n",
       "    <tr>\n",
       "      <th>55</th>\n",
       "      <td>['Department of Chemistry', 'Faculty of Scienc...</td>\n",
       "      <td>flexible classification</td>\n",
       "      <td>['Hirosaki University', 'Chulalongkorn Univers...</td>\n",
       "      <td>Fluoroalkylsilane</td>\n",
       "      <td>applied surface science</td>\n",
       "      <td>Chemistry</td>\n",
       "    </tr>\n",
       "    <tr>\n",
       "      <th>57</th>\n",
       "      <td>['Department of Chemistry', 'Faculty of Scienc...</td>\n",
       "      <td>flexible classification</td>\n",
       "      <td>['Hirosaki University', 'Chulalongkorn Univers...</td>\n",
       "      <td>Oil/water separation superhydrophobic/superole...</td>\n",
       "      <td>applied surface science</td>\n",
       "      <td>Chemistry</td>\n",
       "    </tr>\n",
       "    <tr>\n",
       "      <th>59</th>\n",
       "      <td>['Department of Chemistry', 'Faculty of Scienc...</td>\n",
       "      <td>all subject journal classification</td>\n",
       "      <td>['Hirosaki University', 'Chulalongkorn Univers...</td>\n",
       "      <td>Fluoroalkylsilane</td>\n",
       "      <td>applied surface science</td>\n",
       "      <td>Chemistry</td>\n",
       "    </tr>\n",
       "    <tr>\n",
       "      <th>61</th>\n",
       "      <td>['Department of Chemistry', 'Faculty of Scienc...</td>\n",
       "      <td>all subject journal classification</td>\n",
       "      <td>['Hirosaki University', 'Chulalongkorn Univers...</td>\n",
       "      <td>Oil/water separation superhydrophobic/superole...</td>\n",
       "      <td>applied surface science</td>\n",
       "      <td>Chemistry</td>\n",
       "    </tr>\n",
       "    <tr>\n",
       "      <th>63</th>\n",
       "      <td>['Department of Chemistry', 'Faculty of Scienc...</td>\n",
       "      <td>subject abbreviation</td>\n",
       "      <td>['Hirosaki University', 'Chulalongkorn Univers...</td>\n",
       "      <td>Fluoroalkylsilane</td>\n",
       "      <td>applied surface science</td>\n",
       "      <td>Chemistry</td>\n",
       "    </tr>\n",
       "    <tr>\n",
       "      <th>65</th>\n",
       "      <td>['Department of Chemistry', 'Faculty of Scienc...</td>\n",
       "      <td>subject abbreviation</td>\n",
       "      <td>['Hirosaki University', 'Chulalongkorn Univers...</td>\n",
       "      <td>Oil/water separation superhydrophobic/superole...</td>\n",
       "      <td>applied surface science</td>\n",
       "      <td>Chemistry</td>\n",
       "    </tr>\n",
       "    <tr>\n",
       "      <th>67</th>\n",
       "      <td>['Department of Chemistry', 'Faculty of Scienc...</td>\n",
       "      <td>complex classification</td>\n",
       "      <td>['Hirosaki University', 'Chulalongkorn Univers...</td>\n",
       "      <td>Fluoroalkylsilane</td>\n",
       "      <td>applied surface science</td>\n",
       "      <td>Physics and Astronomy</td>\n",
       "    </tr>\n",
       "    <tr>\n",
       "      <th>69</th>\n",
       "      <td>['Department of Chemistry', 'Faculty of Scienc...</td>\n",
       "      <td>complex classification</td>\n",
       "      <td>['Hirosaki University', 'Chulalongkorn Univers...</td>\n",
       "      <td>Oil/water separation superhydrophobic/superole...</td>\n",
       "      <td>applied surface science</td>\n",
       "      <td>Physics and Astronomy</td>\n",
       "    </tr>\n",
       "  </tbody>\n",
       "</table>\n",
       "</div>"
      ],
      "text/plain": [
       "                                        organizations  \\\n",
       "51  ['Department of Chemistry', 'Faculty of Scienc...   \n",
       "53  ['Department of Chemistry', 'Faculty of Scienc...   \n",
       "55  ['Department of Chemistry', 'Faculty of Scienc...   \n",
       "57  ['Department of Chemistry', 'Faculty of Scienc...   \n",
       "59  ['Department of Chemistry', 'Faculty of Scienc...   \n",
       "61  ['Department of Chemistry', 'Faculty of Scienc...   \n",
       "63  ['Department of Chemistry', 'Faculty of Scienc...   \n",
       "65  ['Department of Chemistry', 'Faculty of Scienc...   \n",
       "67  ['Department of Chemistry', 'Faculty of Scienc...   \n",
       "69  ['Department of Chemistry', 'Faculty of Scienc...   \n",
       "\n",
       "                        classification  \\\n",
       "51              complex classification   \n",
       "53              complex classification   \n",
       "55             flexible classification   \n",
       "57             flexible classification   \n",
       "59  all subject journal classification   \n",
       "61  all subject journal classification   \n",
       "63                subject abbreviation   \n",
       "65                subject abbreviation   \n",
       "67              complex classification   \n",
       "69              complex classification   \n",
       "\n",
       "                                         affiliations  \\\n",
       "51  ['Hirosaki University', 'Chulalongkorn Univers...   \n",
       "53  ['Hirosaki University', 'Chulalongkorn Univers...   \n",
       "55  ['Hirosaki University', 'Chulalongkorn Univers...   \n",
       "57  ['Hirosaki University', 'Chulalongkorn Univers...   \n",
       "59  ['Hirosaki University', 'Chulalongkorn Univers...   \n",
       "61  ['Hirosaki University', 'Chulalongkorn Univers...   \n",
       "63  ['Hirosaki University', 'Chulalongkorn Univers...   \n",
       "65  ['Hirosaki University', 'Chulalongkorn Univers...   \n",
       "67  ['Hirosaki University', 'Chulalongkorn Univers...   \n",
       "69  ['Hirosaki University', 'Chulalongkorn Univers...   \n",
       "\n",
       "                                        auth-keywords  \\\n",
       "51                                  Fluoroalkylsilane   \n",
       "53  Oil/water separation superhydrophobic/superole...   \n",
       "55                                  Fluoroalkylsilane   \n",
       "57  Oil/water separation superhydrophobic/superole...   \n",
       "59                                  Fluoroalkylsilane   \n",
       "61  Oil/water separation superhydrophobic/superole...   \n",
       "63                                  Fluoroalkylsilane   \n",
       "65  Oil/water separation superhydrophobic/superole...   \n",
       "67                                  Fluoroalkylsilane   \n",
       "69  Oil/water separation superhydrophobic/superole...   \n",
       "\n",
       "               publish_name        subject-cluster  \n",
       "51  applied surface science              Chemistry  \n",
       "53  applied surface science              Chemistry  \n",
       "55  applied surface science              Chemistry  \n",
       "57  applied surface science              Chemistry  \n",
       "59  applied surface science              Chemistry  \n",
       "61  applied surface science              Chemistry  \n",
       "63  applied surface science              Chemistry  \n",
       "65  applied surface science              Chemistry  \n",
       "67  applied surface science  Physics and Astronomy  \n",
       "69  applied surface science  Physics and Astronomy  "
      ]
     },
     "execution_count": 567,
     "metadata": {},
     "output_type": "execute_result"
    }
   ],
   "source": [
    "df_data_file_cutoff.head(10)"
   ]
  }
 ],
 "metadata": {
  "kernelspec": {
   "display_name": "base",
   "language": "python",
   "name": "python3"
  },
  "language_info": {
   "codemirror_mode": {
    "name": "ipython",
    "version": 3
   },
   "file_extension": ".py",
   "mimetype": "text/x-python",
   "name": "python",
   "nbconvert_exporter": "python",
   "pygments_lexer": "ipython3",
   "version": "3.12.4"
  }
 },
 "nbformat": 4,
 "nbformat_minor": 2
}
